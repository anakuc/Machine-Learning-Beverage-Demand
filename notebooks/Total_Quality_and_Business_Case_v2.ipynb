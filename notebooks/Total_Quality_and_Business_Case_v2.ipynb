{
  "nbformat": 4,
  "nbformat_minor": 0,
  "metadata": {
    "colab": {
      "name": "Total Quality and Business Case v2.ipynb",
      "provenance": [],
      "collapsed_sections": []
    },
    "kernelspec": {
      "display_name": "Python 3",
      "language": "python",
      "name": "python3"
    },
    "language_info": {
      "codemirror_mode": {
        "name": "ipython",
        "version": 3
      },
      "file_extension": ".py",
      "mimetype": "text/x-python",
      "name": "python",
      "nbconvert_exporter": "python",
      "pygments_lexer": "ipython3",
      "version": "3.7.4"
    },
    "toc": {
      "base_numbering": 1,
      "nav_menu": {},
      "number_sections": true,
      "sideBar": true,
      "skip_h1_title": false,
      "title_cell": "Table of Contents",
      "title_sidebar": "Contents",
      "toc_cell": false,
      "toc_position": {},
      "toc_section_display": true,
      "toc_window_display": false
    }
  },
  "cells": [
    {
      "cell_type": "markdown",
      "metadata": {
        "id": "eqggdDPBar_H"
      },
      "source": [
        "## Initialization"
      ]
    },
    {
      "cell_type": "code",
      "metadata": {
        "id": "q-FUmxTYUF_Z"
      },
      "source": [
        "# Python ≥3.5 is required\n",
        "import sys\n",
        "assert sys.version_info >= (3, 5)\n",
        "\n",
        "# Scikit-Learn ≥0.20 is required\n",
        "import sklearn\n",
        "assert sklearn.__version__ >= \"0.20\"\n",
        "\n",
        "import matplotlib.pyplot as plt\n",
        "\n",
        "import os\n",
        "import time\n",
        "import pandas as pd\n",
        "import numpy as np\n",
        "\n",
        "from sklearn.pipeline import Pipeline\n",
        "from sklearn.preprocessing import StandardScaler\n",
        "from sklearn.model_selection import train_test_split\n",
        "from sklearn.impute import SimpleImputer\n",
        "from sklearn.preprocessing import OneHotEncoder \n",
        "from sklearn.pipeline import FeatureUnion\n",
        "from sklearn.base import BaseEstimator, TransformerMixin\n",
        "\n",
        "#Models\n",
        "from sklearn.linear_model import LinearRegression\n",
        "from sklearn import tree\n",
        "from sklearn.tree import DecisionTreeRegressor\n",
        "from sklearn.tree import DecisionTreeClassifier, plot_tree\n",
        "from sklearn.ensemble import RandomForestRegressor\n",
        "\n",
        "\n",
        "# Model evaluation und visualisation\n",
        "from sklearn.metrics import mean_squared_error\n",
        "from sklearn.model_selection import cross_val_score\n",
        "\n",
        "np.random.seed(42)"
      ],
      "execution_count": null,
      "outputs": []
    },
    {
      "cell_type": "markdown",
      "metadata": {
        "id": "PGWnWCgWaveR"
      },
      "source": [
        "## Load and investigate data"
      ]
    },
    {
      "cell_type": "code",
      "metadata": {
        "colab": {
          "base_uri": "https://localhost:8080/"
        },
        "id": "-1LebXjRUF_a",
        "outputId": "47eff682-a993-4e8c-bbaa-ecfc40449850"
      },
      "source": [
        "# NOTICE --- dtype={'Date': 'str'}\n",
        "#data = pd.read_csv('beverage-import.csv',dtype={'Date': 'str'})\n",
        "\n",
        "from google.colab import drive \n",
        "drive.mount(\"/content/gdrive\")\n",
        "data = pd.read_csv('/content/gdrive/MyDrive/Project/beverage-import.csv', index_col=0)"
      ],
      "execution_count": null,
      "outputs": [
        {
          "output_type": "stream",
          "text": [
            "Mounted at /content/gdrive\n"
          ],
          "name": "stdout"
        },
        {
          "output_type": "stream",
          "text": [
            "/usr/local/lib/python3.7/dist-packages/IPython/core/interactiveshell.py:2718: DtypeWarning: Columns (11,12,13,14,19) have mixed types.Specify dtype option on import or set low_memory=False.\n",
            "  interactivity=interactivity, compiler=compiler, result=result)\n"
          ],
          "name": "stderr"
        }
      ]
    },
    {
      "cell_type": "code",
      "metadata": {
        "colab": {
          "base_uri": "https://localhost:8080/"
        },
        "id": "WvhccWFoUF_c",
        "outputId": "f4831439-9887-4006-ccae-326a9924bdd0"
      },
      "source": [
        "column_names = data.columns\n",
        "for c in column_names:\n",
        "    print( c, ':', data[c].nunique(), data[c].isna().sum() )"
      ],
      "execution_count": null,
      "outputs": [
        {
          "output_type": "stream",
          "text": [
            "Customer : 3112 0\n",
            "Sales Rep : 45 0\n",
            "Month : 12 0\n",
            "Year : 3 0\n",
            "Date : 28 0\n",
            "Code and description  : 1136 0\n",
            "Code Prod : 723 0\n",
            "Description : 1328 0\n",
            "Quantity : 1375 0\n",
            "Units : 7 5767\n",
            "Total quantity : 1264 0\n",
            "Value Sale : 28467 0\n",
            "Tax : 22865 0\n",
            "Total value sale : 26529 0\n",
            "Channel : 15 48\n",
            "Brand : 62 0\n",
            "Category : 14 0\n",
            "Comment : 14 80505\n",
            "Unit price : 9339 629\n",
            "Unnamed: 20 : 0 81228\n"
          ],
          "name": "stdout"
        }
      ]
    },
    {
      "cell_type": "markdown",
      "metadata": {
        "id": "bjscJc5aUF_d"
      },
      "source": [
        "## Clean the data"
      ]
    },
    {
      "cell_type": "code",
      "metadata": {
        "id": "QWZUjU2SUF_d"
      },
      "source": [
        "data = data.drop(['Unnamed: 20', 'Comment'], axis=1)"
      ],
      "execution_count": null,
      "outputs": []
    },
    {
      "cell_type": "code",
      "metadata": {
        "id": "HNbksRcY3im2"
      },
      "source": [
        "data['NewDate']= data['Date'] \\\n",
        "        .map({'ENERO -- 2015':1, 'FEBRERO -- 2015':2, 'MARZO -- 2015':3,\n",
        "       'ABRIL -- 2015':4, 'MAYO -- 2015':5, 'JUNIO -- 2015':6, 'JULIO -- 2015':7,\n",
        "       'AGOSTO -- 2015':8, 'SEPTIEMBRE -- 2015':9, 'OCTUBRE -- 2015':10,\n",
        "       'NOVIEMBRE -- 2015':11, 'DICIEMBRE -- 2015':12, 'ENERO -- 2016':13,\n",
        "       'FEBRERO -- 2016':14, 'MARZO -- 2016':15, 'ABRIL -- 2016':16,\n",
        "       'MAYO -- 2016':17, 'JUNIO -- 2016':18, 'JULIO -- 2016':19, 'AGOSTO -- 2016':20,\n",
        "       'SEPTIEMBRE -- 2016':21, 'OCTUBRE -- 2016':22, 'NOVIEMBRE -- 2016':23,\n",
        "       'DICIEMBRE -- 2016':24, 'ENERO -- 2017':25, 'FEBRERO -- 2017':26,\n",
        "       'MARZO -- 2017':27, 'ABRIL -- 2017':28})#, 'ABRIL -- 2017':28"
      ],
      "execution_count": null,
      "outputs": []
    },
    {
      "cell_type": "code",
      "metadata": {
        "id": "tSKr_1Kc3im3"
      },
      "source": [
        "# NewDate replaces them\n",
        "data=data.drop(['Month','Year','Date'],axis=1)"
      ],
      "execution_count": null,
      "outputs": []
    },
    {
      "cell_type": "code",
      "metadata": {
        "id": "-BCOcad6C5Nw"
      },
      "source": [
        "# NewDate is now numeric\n",
        "numeric_columns=['NewDate',\"Quantity\", \"Total quantity\", \"Value Sale\", \"Tax\", \"Total value sale\", \"Unit price\" ]"
      ],
      "execution_count": null,
      "outputs": []
    },
    {
      "cell_type": "code",
      "metadata": {
        "id": "Xz-Mkq_xSv4a"
      },
      "source": [
        "#Removing brackets\n",
        "data['Total value sale'] = data['Total value sale'].replace(to_replace='\\(', value=\"\", regex=True)\n",
        "data['Total value sale'] = data['Total value sale'].replace(to_replace='\\)', value=\"\", regex=True)"
      ],
      "execution_count": null,
      "outputs": []
    },
    {
      "cell_type": "code",
      "metadata": {
        "id": "Jyjgw2qt54pF"
      },
      "source": [
        "data = data.dropna() # Removes every row which has at least one NaN"
      ],
      "execution_count": null,
      "outputs": []
    },
    {
      "cell_type": "code",
      "metadata": {
        "id": "DWVX9D3sC5Nx"
      },
      "source": [
        "for c in numeric_columns:\n",
        "    data[c].replace(',', '', regex=True, inplace=True)\n",
        "    data[c]= pd.to_numeric( data[c],errors='raise') "
      ],
      "execution_count": null,
      "outputs": []
    },
    {
      "cell_type": "code",
      "metadata": {
        "id": "honsZ_nD3im5"
      },
      "source": [
        "# Some more cleaning ... (used to be in the cat_names handling)\n",
        "data=data.drop(['Description', 'Code and description '],axis=1)"
      ],
      "execution_count": null,
      "outputs": []
    },
    {
      "cell_type": "code",
      "metadata": {
        "colab": {
          "base_uri": "https://localhost:8080/"
        },
        "id": "j9khCPpQC5Ny",
        "outputId": "0a043705-e821-4c54-8194-365d73cd97a9"
      },
      "source": [
        "print('Data length ',len(data),'\\n' )\n",
        "\n",
        "column_names = data.columns\n",
        "for c in column_names:\n",
        "    print( c, ':',type(data[c][0]),data[c].nunique() )"
      ],
      "execution_count": null,
      "outputs": [
        {
          "output_type": "stream",
          "text": [
            "Data length  74832 \n",
            "\n",
            "Customer : <class 'str'> 3034\n",
            "Sales Rep : <class 'str'> 45\n",
            "Code Prod : <class 'str'> 715\n",
            "Quantity : <class 'numpy.float64'> 896\n",
            "Units : <class 'str'> 7\n",
            "Total quantity : <class 'numpy.float64'> 896\n",
            "Value Sale : <class 'numpy.float64'> 24043\n",
            "Tax : <class 'numpy.float64'> 18371\n",
            "Total value sale : <class 'numpy.float64'> 21633\n",
            "Channel : <class 'str'> 14\n",
            "Brand : <class 'str'> 62\n",
            "Category : <class 'str'> 13\n",
            "Unit price : <class 'numpy.float64'> 6921\n",
            "NewDate : <class 'numpy.int64'> 28\n"
          ],
          "name": "stdout"
        }
      ]
    },
    {
      "cell_type": "code",
      "metadata": {
        "id": "YRQLX4Ex3im5"
      },
      "source": [
        "originalData = data"
      ],
      "execution_count": null,
      "outputs": []
    },
    {
      "cell_type": "markdown",
      "metadata": {
        "id": "wNGbL8KzUF_e"
      },
      "source": [
        "## Test-Train split and DataFrame to Numpy"
      ]
    },
    {
      "cell_type": "code",
      "metadata": {
        "id": "aEv-cThy3im6"
      },
      "source": [
        "# Change -- first 25 vs. final 3 months\n",
        "\n",
        "# The first 25 months are the training set and the final 3 months are the test set\n",
        "# Other combinations are possible, e.g., more months at the end\n",
        "\n",
        "features_train=data[data['NewDate']<23]\n",
        "features_test=data[data['NewDate']>=23]"
      ],
      "execution_count": null,
      "outputs": []
    },
    {
      "cell_type": "code",
      "metadata": {
        "id": "Kz-p9MZY3im6"
      },
      "source": [
        "label_train=features_train['Total quantity']\n",
        "label_test=features_test['Total quantity']"
      ],
      "execution_count": null,
      "outputs": []
    },
    {
      "cell_type": "code",
      "metadata": {
        "id": "KTWwbq3mUF_e"
      },
      "source": [
        "features_train=features_train.drop('Total quantity', axis=1)\n",
        "features_test=features_test.drop('Total quantity', axis=1)"
      ],
      "execution_count": null,
      "outputs": []
    },
    {
      "cell_type": "code",
      "metadata": {
        "colab": {
          "base_uri": "https://localhost:8080/"
        },
        "id": "cJxzYsOXUF_d",
        "outputId": "91e7239f-07bb-4606-8a8e-5f8bfc883312"
      },
      "source": [
        "print(features_train.shape, label_train.shape)"
      ],
      "execution_count": null,
      "outputs": [
        {
          "output_type": "stream",
          "text": [
            "(58649, 13) (58649,)\n"
          ],
          "name": "stdout"
        }
      ]
    },
    {
      "cell_type": "code",
      "metadata": {
        "colab": {
          "base_uri": "https://localhost:8080/"
        },
        "id": "VxAHFs1uC5N1",
        "outputId": "6289e21b-a74b-432b-c1ce-c67bd347ee91"
      },
      "source": [
        "print(features_train.columns)"
      ],
      "execution_count": null,
      "outputs": [
        {
          "output_type": "stream",
          "text": [
            "Index(['Customer', 'Sales Rep', 'Code Prod', 'Quantity', 'Units', 'Value Sale',\n",
            "       'Tax', 'Total value sale', 'Channel', 'Brand', 'Category', 'Unit price',\n",
            "       'NewDate'],\n",
            "      dtype='object')\n"
          ],
          "name": "stdout"
        }
      ]
    },
    {
      "cell_type": "code",
      "metadata": {
        "id": "OuiJvz16xjzI"
      },
      "source": [
        "cat_names = ['Customer', 'Sales Rep', 'Code Prod', 'Channel',  'Brand', 'Category','Units' ] \n",
        "num_names = [ 'NewDate', 'Quantity', 'Total value sale', 'Value Sale', 'Tax','Unit price'] "
      ],
      "execution_count": null,
      "outputs": []
    },
    {
      "cell_type": "code",
      "metadata": {
        "id": "W4vgAtH0C5N2"
      },
      "source": [
        "features_cat = features_train[cat_names]\n",
        "features_num = features_train[num_names]"
      ],
      "execution_count": null,
      "outputs": []
    },
    {
      "cell_type": "code",
      "metadata": {
        "id": "EygFQsfVUF_f"
      },
      "source": [
        "class DataFrameSelector(BaseEstimator, TransformerMixin):\n",
        "    def __init__(self, feature_names):\n",
        "        self.attribute_names = feature_names\n",
        "    def fit(self, X, y=None):\n",
        "        return self\n",
        "    def transform(self, X):\n",
        "        return X[self.attribute_names].values"
      ],
      "execution_count": null,
      "outputs": []
    },
    {
      "cell_type": "code",
      "metadata": {
        "id": "OCUmyi_Aymmv"
      },
      "source": [
        "num_pipeline = Pipeline([\n",
        "        ('selector', DataFrameSelector(num_names)),\n",
        "        ('imputer', SimpleImputer(strategy=\"median\")),\n",
        "        ('std_scaler', StandardScaler()),\n",
        "    ])\n",
        "\n",
        "temp = num_pipeline.fit_transform(features_num)"
      ],
      "execution_count": null,
      "outputs": []
    },
    {
      "cell_type": "code",
      "metadata": {
        "id": "K7riOk8Uynhv"
      },
      "source": [
        "# handle_unknown = 'ignore' to handle item IDs that appear only in the test set\n",
        "cat_pipeline = Pipeline([\n",
        "        ('selector', DataFrameSelector(cat_names)),\n",
        "        ('cat_encoder', OneHotEncoder(sparse=False,handle_unknown = 'ignore')),\n",
        "    ])\n",
        "\n",
        "temp1 = cat_pipeline.fit_transform(features_train)"
      ],
      "execution_count": null,
      "outputs": []
    },
    {
      "cell_type": "code",
      "metadata": {
        "id": "61-t0kWpypfi"
      },
      "source": [
        "full_pipeline = FeatureUnion(transformer_list=[\n",
        "        (\"num_pipeline\", num_pipeline),\n",
        "        (\"cat_pipeline\", cat_pipeline),\n",
        "    ])\n",
        "data_prepared = full_pipeline.fit_transform(features_train)"
      ],
      "execution_count": null,
      "outputs": []
    },
    {
      "cell_type": "code",
      "metadata": {
        "colab": {
          "base_uri": "https://localhost:8080/"
        },
        "id": "cZ1UECqKUF_g",
        "outputId": "29fb77b9-e4bb-4b5b-a6d2-ad4921b9487a"
      },
      "source": [
        "print(data_prepared.shape, label_train.shape)"
      ],
      "execution_count": null,
      "outputs": [
        {
          "output_type": "stream",
          "text": [
            "(58649, 3219) (58649,)\n"
          ],
          "name": "stdout"
        }
      ]
    },
    {
      "cell_type": "markdown",
      "metadata": {
        "id": "ajotp2jDwsqW"
      },
      "source": [
        "## Linear Regression"
      ]
    },
    {
      "cell_type": "code",
      "metadata": {
        "colab": {
          "base_uri": "https://localhost:8080/"
        },
        "id": "3HHPgcX-wsqX",
        "outputId": "9c8dd2b3-768a-4df7-cc81-2c7e5705bd97"
      },
      "source": [
        "start = time.time()\n",
        "\n",
        "linear_regression = LinearRegression()\n",
        "linear_regression.fit(data_prepared, label_train)\n",
        "\n",
        "t=(time.time() - start)/60\n",
        "print( 'Time in minutes:%5.2f'%t)"
      ],
      "execution_count": null,
      "outputs": [
        {
          "output_type": "stream",
          "text": [
            "Time in minutes: 1.15\n"
          ],
          "name": "stdout"
        }
      ]
    },
    {
      "cell_type": "code",
      "metadata": {
        "colab": {
          "base_uri": "https://localhost:8080/"
        },
        "id": "GZ5CTuLDwsqX",
        "outputId": "1421e925-99cd-4009-fd85-88802b7a6f14"
      },
      "source": [
        "predictions = linear_regression.predict(data_prepared)\n",
        "\n",
        "mse = mean_squared_error(label_train, predictions)\n",
        "rmse = np.sqrt(mse)\n",
        "print('RMSE %5.4f'% rmse)\n",
        "\n",
        "score = linear_regression.score(data_prepared, label_train)\n",
        "print(' r^2 score %8.3f \\n' % score)"
      ],
      "execution_count": null,
      "outputs": [
        {
          "output_type": "stream",
          "text": [
            "RMSE 0.0000\n",
            " r^2 score    1.000 \n",
            "\n"
          ],
          "name": "stdout"
        }
      ]
    },
    {
      "cell_type": "code",
      "metadata": {
        "colab": {
          "base_uri": "https://localhost:8080/"
        },
        "id": "ReGl89D_JQQo",
        "outputId": "f5bbc227-0867-4278-e7e9-23d2c732f2a4"
      },
      "source": [
        "test_prepared = full_pipeline.transform(features_test)\n",
        "\n",
        "test_prepared.shape"
      ],
      "execution_count": null,
      "outputs": [
        {
          "output_type": "execute_result",
          "data": {
            "text/plain": [
              "(16183, 3219)"
            ]
          },
          "metadata": {},
          "execution_count": 28
        }
      ]
    },
    {
      "cell_type": "code",
      "metadata": {
        "colab": {
          "base_uri": "https://localhost:8080/"
        },
        "id": "tfMM7eEywsqZ",
        "outputId": "6d8ca850-01ae-4f3a-b185-431fac1df63f"
      },
      "source": [
        "final_predictions = linear_regression.predict(test_prepared)\n",
        "\n",
        "final_mse = mean_squared_error(label_test, final_predictions)\n",
        "final_rmse = np.sqrt(final_mse)\n",
        "print('RMSE %5.4f'%final_rmse)\n",
        "\n",
        "score = linear_regression.score(test_prepared,label_test)\n",
        "print(' r^2 score %8.3f \\n' % score)"
      ],
      "execution_count": null,
      "outputs": [
        {
          "output_type": "stream",
          "text": [
            "RMSE 0.6508\n",
            " r^2 score    1.000 \n",
            "\n"
          ],
          "name": "stdout"
        }
      ]
    },
    {
      "cell_type": "markdown",
      "metadata": {
        "id": "TEyD3W_j3im-"
      },
      "source": [
        "Business insight"
      ]
    },
    {
      "cell_type": "code",
      "metadata": {
        "colab": {
          "base_uri": "https://localhost:8080/",
          "height": 419
        },
        "id": "DR0zfblb3im-",
        "outputId": "309e5545-3e8e-4569-ae17-0c1e8b4e4c60"
      },
      "source": [
        "df = pd.DataFrame( columns=['prediction','label'] )\n",
        "df['prediction']=pd.Series(final_predictions)\n",
        "df['label']=label_test.reset_index()['Total quantity']\n",
        "df"
      ],
      "execution_count": null,
      "outputs": [
        {
          "output_type": "execute_result",
          "data": {
            "text/html": [
              "<div>\n",
              "<style scoped>\n",
              "    .dataframe tbody tr th:only-of-type {\n",
              "        vertical-align: middle;\n",
              "    }\n",
              "\n",
              "    .dataframe tbody tr th {\n",
              "        vertical-align: top;\n",
              "    }\n",
              "\n",
              "    .dataframe thead th {\n",
              "        text-align: right;\n",
              "    }\n",
              "</style>\n",
              "<table border=\"1\" class=\"dataframe\">\n",
              "  <thead>\n",
              "    <tr style=\"text-align: right;\">\n",
              "      <th></th>\n",
              "      <th>prediction</th>\n",
              "      <th>label</th>\n",
              "    </tr>\n",
              "  </thead>\n",
              "  <tbody>\n",
              "    <tr>\n",
              "      <th>0</th>\n",
              "      <td>5.993020</td>\n",
              "      <td>6.0</td>\n",
              "    </tr>\n",
              "    <tr>\n",
              "      <th>1</th>\n",
              "      <td>2.000000</td>\n",
              "      <td>2.0</td>\n",
              "    </tr>\n",
              "    <tr>\n",
              "      <th>2</th>\n",
              "      <td>2.000000</td>\n",
              "      <td>2.0</td>\n",
              "    </tr>\n",
              "    <tr>\n",
              "      <th>3</th>\n",
              "      <td>1.000000</td>\n",
              "      <td>1.0</td>\n",
              "    </tr>\n",
              "    <tr>\n",
              "      <th>4</th>\n",
              "      <td>2.000000</td>\n",
              "      <td>2.0</td>\n",
              "    </tr>\n",
              "    <tr>\n",
              "      <th>...</th>\n",
              "      <td>...</td>\n",
              "      <td>...</td>\n",
              "    </tr>\n",
              "    <tr>\n",
              "      <th>16178</th>\n",
              "      <td>8.708265</td>\n",
              "      <td>4.0</td>\n",
              "    </tr>\n",
              "    <tr>\n",
              "      <th>16179</th>\n",
              "      <td>24.708265</td>\n",
              "      <td>20.0</td>\n",
              "    </tr>\n",
              "    <tr>\n",
              "      <th>16180</th>\n",
              "      <td>6.708265</td>\n",
              "      <td>2.0</td>\n",
              "    </tr>\n",
              "    <tr>\n",
              "      <th>16181</th>\n",
              "      <td>5.727682</td>\n",
              "      <td>1.0</td>\n",
              "    </tr>\n",
              "    <tr>\n",
              "      <th>16182</th>\n",
              "      <td>5.701285</td>\n",
              "      <td>1.0</td>\n",
              "    </tr>\n",
              "  </tbody>\n",
              "</table>\n",
              "<p>16183 rows × 2 columns</p>\n",
              "</div>"
            ],
            "text/plain": [
              "       prediction  label\n",
              "0        5.993020    6.0\n",
              "1        2.000000    2.0\n",
              "2        2.000000    2.0\n",
              "3        1.000000    1.0\n",
              "4        2.000000    2.0\n",
              "...           ...    ...\n",
              "16178    8.708265    4.0\n",
              "16179   24.708265   20.0\n",
              "16180    6.708265    2.0\n",
              "16181    5.727682    1.0\n",
              "16182    5.701285    1.0\n",
              "\n",
              "[16183 rows x 2 columns]"
            ]
          },
          "metadata": {},
          "execution_count": 30
        }
      ]
    },
    {
      "cell_type": "code",
      "metadata": {
        "colab": {
          "base_uri": "https://localhost:8080/"
        },
        "id": "PaHMBplO3im-",
        "outputId": "30f57a86-f90a-4d18-dad0-537915c16e3e"
      },
      "source": [
        "Ds=pd.DataFrame(columns=['P','L','D'] )\n",
        "i=0\n",
        "for index,row in df.iterrows():\n",
        "    diff= round(row['prediction'],0)-row['label']\n",
        "    if not diff==0:\n",
        "        i+=1\n",
        "        Ds=Ds.append({'P': row['prediction'],'L': row['label'],'D':diff },ignore_index=True )\n",
        "print(i)"
      ],
      "execution_count": null,
      "outputs": [
        {
          "output_type": "stream",
          "text": [
            "586\n"
          ],
          "name": "stdout"
        }
      ]
    },
    {
      "cell_type": "code",
      "metadata": {
        "colab": {
          "base_uri": "https://localhost:8080/",
          "height": 297
        },
        "id": "6wluYrJX3im-",
        "outputId": "5c7b2749-f57d-4e7e-87dd-b32812eaa21e"
      },
      "source": [
        "Ds.describe()"
      ],
      "execution_count": null,
      "outputs": [
        {
          "output_type": "execute_result",
          "data": {
            "text/html": [
              "<div>\n",
              "<style scoped>\n",
              "    .dataframe tbody tr th:only-of-type {\n",
              "        vertical-align: middle;\n",
              "    }\n",
              "\n",
              "    .dataframe tbody tr th {\n",
              "        vertical-align: top;\n",
              "    }\n",
              "\n",
              "    .dataframe thead th {\n",
              "        text-align: right;\n",
              "    }\n",
              "</style>\n",
              "<table border=\"1\" class=\"dataframe\">\n",
              "  <thead>\n",
              "    <tr style=\"text-align: right;\">\n",
              "      <th></th>\n",
              "      <th>P</th>\n",
              "      <th>L</th>\n",
              "      <th>D</th>\n",
              "    </tr>\n",
              "  </thead>\n",
              "  <tbody>\n",
              "    <tr>\n",
              "      <th>count</th>\n",
              "      <td>586.000000</td>\n",
              "      <td>586.000000</td>\n",
              "      <td>586.000000</td>\n",
              "    </tr>\n",
              "    <tr>\n",
              "      <th>mean</th>\n",
              "      <td>29.782332</td>\n",
              "      <td>27.084727</td>\n",
              "      <td>2.988652</td>\n",
              "    </tr>\n",
              "    <tr>\n",
              "      <th>std</th>\n",
              "      <td>96.848545</td>\n",
              "      <td>96.893926</td>\n",
              "      <td>2.064327</td>\n",
              "    </tr>\n",
              "    <tr>\n",
              "      <th>min</th>\n",
              "      <td>-37.032699</td>\n",
              "      <td>-41.000000</td>\n",
              "      <td>-1.000000</td>\n",
              "    </tr>\n",
              "    <tr>\n",
              "      <th>25%</th>\n",
              "      <td>5.528036</td>\n",
              "      <td>2.000000</td>\n",
              "      <td>2.000000</td>\n",
              "    </tr>\n",
              "    <tr>\n",
              "      <th>50%</th>\n",
              "      <td>10.021006</td>\n",
              "      <td>6.000000</td>\n",
              "      <td>3.000000</td>\n",
              "    </tr>\n",
              "    <tr>\n",
              "      <th>75%</th>\n",
              "      <td>23.859229</td>\n",
              "      <td>24.000000</td>\n",
              "      <td>5.000000</td>\n",
              "    </tr>\n",
              "    <tr>\n",
              "      <th>max</th>\n",
              "      <td>1204.708265</td>\n",
              "      <td>1200.000000</td>\n",
              "      <td>7.000000</td>\n",
              "    </tr>\n",
              "  </tbody>\n",
              "</table>\n",
              "</div>"
            ],
            "text/plain": [
              "                 P            L           D\n",
              "count   586.000000   586.000000  586.000000\n",
              "mean     29.782332    27.084727    2.988652\n",
              "std      96.848545    96.893926    2.064327\n",
              "min     -37.032699   -41.000000   -1.000000\n",
              "25%       5.528036     2.000000    2.000000\n",
              "50%      10.021006     6.000000    3.000000\n",
              "75%      23.859229    24.000000    5.000000\n",
              "max    1204.708265  1200.000000    7.000000"
            ]
          },
          "metadata": {},
          "execution_count": 32
        }
      ]
    },
    {
      "cell_type": "code",
      "metadata": {
        "id": "SMg8D2Km3im_"
      },
      "source": [
        "# Out of the test set (three last months, 6023 transactions)\n",
        "# There were 348 predictions which were not perfect\n",
        "# and you can further analyze them through the data frame Ds"
      ],
      "execution_count": null,
      "outputs": []
    },
    {
      "cell_type": "markdown",
      "metadata": {
        "id": "gw8QxKeqBNJw"
      },
      "source": [
        "## Decision Tree"
      ]
    },
    {
      "cell_type": "code",
      "metadata": {
        "colab": {
          "base_uri": "https://localhost:8080/"
        },
        "id": "1Nivu6hmBPtI",
        "outputId": "c7653dbe-5dc9-450f-95c2-75d2c56fad21"
      },
      "source": [
        "import time\n",
        "start = time.time()\n",
        "\n",
        "DTR= DecisionTreeRegressor()\n",
        "DTR.fit(data_prepared, label_train)\n",
        "\n",
        "t=(time.time() - start)/60\n",
        "print( 'Time in minutes:%5.2f'%t)"
      ],
      "execution_count": null,
      "outputs": [
        {
          "output_type": "stream",
          "text": [
            "Time in minutes: 0.39\n"
          ],
          "name": "stdout"
        }
      ]
    },
    {
      "cell_type": "code",
      "metadata": {
        "colab": {
          "base_uri": "https://localhost:8080/"
        },
        "id": "acOoWY_zBnEB",
        "outputId": "8a9edeec-b174-48b7-8016-dad23f51e518"
      },
      "source": [
        "predictions = DTR.predict(data_prepared)\n",
        "\n",
        "DTR_mse = mean_squared_error(label_train, predictions)\n",
        "print('%5.4f'%DTR_mse)\n",
        "\n",
        "DTR_rmse = np.sqrt(DTR_mse)\n",
        "print('RMSE %5.4f'%DTR_rmse)"
      ],
      "execution_count": null,
      "outputs": [
        {
          "output_type": "stream",
          "text": [
            "0.0000\n",
            "RMSE 0.0000\n"
          ],
          "name": "stdout"
        }
      ]
    },
    {
      "cell_type": "code",
      "metadata": {
        "id": "HtpzKdguBpbM"
      },
      "source": [
        "scores = cross_val_score(DTR, data_prepared, label_train, scoring=\"neg_mean_squared_error\", cv=3)\n",
        "DTR_rmse_scores = np.sqrt(-scores)\n",
        "r2_scores = cross_val_score(DTR, data_prepared, label_train, scoring=\"r2\", cv=3)"
      ],
      "execution_count": null,
      "outputs": []
    },
    {
      "cell_type": "code",
      "metadata": {
        "colab": {
          "base_uri": "https://localhost:8080/"
        },
        "id": "KKRDam5kBryv",
        "outputId": "fb68a297-11dd-4dda-9cb6-a8dea43eb573"
      },
      "source": [
        "print(DTR_rmse_scores)\n",
        "print(r2_scores)"
      ],
      "execution_count": null,
      "outputs": [
        {
          "output_type": "stream",
          "text": [
            "[  1.48418845 202.25450681  10.78473936]\n",
            "[0.9997227  0.46932649 0.99915142]\n"
          ],
          "name": "stdout"
        }
      ]
    },
    {
      "cell_type": "code",
      "metadata": {
        "colab": {
          "base_uri": "https://localhost:8080/"
        },
        "id": "z3Xa6ZxiBuRG",
        "outputId": "b61daa0a-d485-4e42-bc9c-9290653dd49b"
      },
      "source": [
        "test_prepared = full_pipeline.transform(features_test)\n",
        "\n",
        "test_prepared.shape"
      ],
      "execution_count": null,
      "outputs": [
        {
          "output_type": "execute_result",
          "data": {
            "text/plain": [
              "(16183, 3219)"
            ]
          },
          "metadata": {},
          "execution_count": 38
        }
      ]
    },
    {
      "cell_type": "code",
      "metadata": {
        "colab": {
          "base_uri": "https://localhost:8080/"
        },
        "id": "OtGoiZSKBwiK",
        "outputId": "4f23074a-b52f-4fef-bae6-6aded6d386a7"
      },
      "source": [
        "final_predictions = DTR.predict(test_prepared)\n",
        "\n",
        "final_mse = mean_squared_error(label_test, final_predictions)\n",
        "final_rmse = np.sqrt(final_mse)\n",
        "print('RMSE %5.4f'%final_rmse)"
      ],
      "execution_count": null,
      "outputs": [
        {
          "output_type": "stream",
          "text": [
            "RMSE 3.0155\n"
          ],
          "name": "stdout"
        }
      ]
    },
    {
      "cell_type": "code",
      "metadata": {
        "colab": {
          "base_uri": "https://localhost:8080/"
        },
        "id": "CLfd2jb1B3GT",
        "outputId": "6016db63-d60b-4029-ed2e-fe245029f956"
      },
      "source": [
        "score = DTR.score(test_prepared,label_test)\n",
        "print(' r^2 score %8.3f \\n' % score)"
      ],
      "execution_count": null,
      "outputs": [
        {
          "output_type": "stream",
          "text": [
            " r^2 score    0.999 \n",
            "\n"
          ],
          "name": "stdout"
        }
      ]
    },
    {
      "cell_type": "code",
      "metadata": {
        "colab": {
          "base_uri": "https://localhost:8080/",
          "height": 248
        },
        "id": "7P46sabHB5NX",
        "outputId": "14b1b051-c6d7-46d5-f551-c844691658f0"
      },
      "source": [
        "DTR = DTR.fit(data_prepared, label_train)\n",
        "tree.plot_tree(DTR) \n",
        "plt.show()"
      ],
      "execution_count": null,
      "outputs": [
        {
          "output_type": "display_data",
          "data": {
            "image/png": "[encoded data removed]",
            "text/plain": [
              "<Figure size 432x288 with 1 Axes>"
            ]
          },
          "metadata": {
            "needs_background": "light"
          }
        }
      ]
    },
    {
      "cell_type": "code",
      "metadata": {
        "colab": {
          "base_uri": "https://localhost:8080/",
          "height": 248
        },
        "id": "y4staooFB7PL",
        "outputId": "f4174b5b-9fbb-4733-fb2b-af7c6d6172ae"
      },
      "source": [
        "DTR = DTR.fit(test_prepared, label_test)\n",
        "tree.plot_tree(DTR) \n",
        "plt.show()"
      ],
      "execution_count": null,
      "outputs": [
        {
          "output_type": "display_data",
          "data": {
            "image/png": "[encoded data removed]",
            "text/plain": [
              "<Figure size 432x288 with 1 Axes>"
            ]
          },
          "metadata": {
            "needs_background": "light"
          }
        }
      ]
    },
    {
      "cell_type": "markdown",
      "metadata": {
        "id": "iZjMqT8yAxdp"
      },
      "source": [
        "Business Insights"
      ]
    },
    {
      "cell_type": "code",
      "metadata": {
        "colab": {
          "base_uri": "https://localhost:8080/",
          "height": 419
        },
        "id": "fQSllzSSA0NR",
        "outputId": "d2fe7042-dcbc-4ced-e201-2ae1e28d1b19"
      },
      "source": [
        "df = pd.DataFrame( columns=['prediction','label'] )\n",
        "df['prediction']=pd.Series(final_predictions)\n",
        "df['label']=label_test.reset_index()['Total quantity']\n",
        "df"
      ],
      "execution_count": null,
      "outputs": [
        {
          "output_type": "execute_result",
          "data": {
            "text/html": [
              "<div>\n",
              "<style scoped>\n",
              "    .dataframe tbody tr th:only-of-type {\n",
              "        vertical-align: middle;\n",
              "    }\n",
              "\n",
              "    .dataframe tbody tr th {\n",
              "        vertical-align: top;\n",
              "    }\n",
              "\n",
              "    .dataframe thead th {\n",
              "        text-align: right;\n",
              "    }\n",
              "</style>\n",
              "<table border=\"1\" class=\"dataframe\">\n",
              "  <thead>\n",
              "    <tr style=\"text-align: right;\">\n",
              "      <th></th>\n",
              "      <th>prediction</th>\n",
              "      <th>label</th>\n",
              "    </tr>\n",
              "  </thead>\n",
              "  <tbody>\n",
              "    <tr>\n",
              "      <th>0</th>\n",
              "      <td>6.0</td>\n",
              "      <td>6.0</td>\n",
              "    </tr>\n",
              "    <tr>\n",
              "      <th>1</th>\n",
              "      <td>2.0</td>\n",
              "      <td>2.0</td>\n",
              "    </tr>\n",
              "    <tr>\n",
              "      <th>2</th>\n",
              "      <td>2.0</td>\n",
              "      <td>2.0</td>\n",
              "    </tr>\n",
              "    <tr>\n",
              "      <th>3</th>\n",
              "      <td>1.0</td>\n",
              "      <td>1.0</td>\n",
              "    </tr>\n",
              "    <tr>\n",
              "      <th>4</th>\n",
              "      <td>2.0</td>\n",
              "      <td>2.0</td>\n",
              "    </tr>\n",
              "    <tr>\n",
              "      <th>...</th>\n",
              "      <td>...</td>\n",
              "      <td>...</td>\n",
              "    </tr>\n",
              "    <tr>\n",
              "      <th>16178</th>\n",
              "      <td>4.0</td>\n",
              "      <td>4.0</td>\n",
              "    </tr>\n",
              "    <tr>\n",
              "      <th>16179</th>\n",
              "      <td>20.0</td>\n",
              "      <td>20.0</td>\n",
              "    </tr>\n",
              "    <tr>\n",
              "      <th>16180</th>\n",
              "      <td>2.0</td>\n",
              "      <td>2.0</td>\n",
              "    </tr>\n",
              "    <tr>\n",
              "      <th>16181</th>\n",
              "      <td>1.0</td>\n",
              "      <td>1.0</td>\n",
              "    </tr>\n",
              "    <tr>\n",
              "      <th>16182</th>\n",
              "      <td>1.0</td>\n",
              "      <td>1.0</td>\n",
              "    </tr>\n",
              "  </tbody>\n",
              "</table>\n",
              "<p>16183 rows × 2 columns</p>\n",
              "</div>"
            ],
            "text/plain": [
              "       prediction  label\n",
              "0             6.0    6.0\n",
              "1             2.0    2.0\n",
              "2             2.0    2.0\n",
              "3             1.0    1.0\n",
              "4             2.0    2.0\n",
              "...           ...    ...\n",
              "16178         4.0    4.0\n",
              "16179        20.0   20.0\n",
              "16180         2.0    2.0\n",
              "16181         1.0    1.0\n",
              "16182         1.0    1.0\n",
              "\n",
              "[16183 rows x 2 columns]"
            ]
          },
          "metadata": {},
          "execution_count": 43
        }
      ]
    },
    {
      "cell_type": "code",
      "metadata": {
        "colab": {
          "base_uri": "https://localhost:8080/"
        },
        "id": "jn-_p6BGA0NR",
        "outputId": "4f0f9617-e4ca-4fbe-a2c3-014748dc7f73"
      },
      "source": [
        "Ds=pd.DataFrame(columns=['P','L','D'] )\n",
        "i=0\n",
        "for index,row in df.iterrows():\n",
        "    diff= round(row['prediction'],0)-row['label']\n",
        "    if not diff==0:\n",
        "        i+=1\n",
        "        Ds=Ds.append({'P': row['prediction'],'L': row['label'],'D':diff },ignore_index=True )\n",
        "print(i)"
      ],
      "execution_count": null,
      "outputs": [
        {
          "output_type": "stream",
          "text": [
            "157\n"
          ],
          "name": "stdout"
        }
      ]
    },
    {
      "cell_type": "code",
      "metadata": {
        "colab": {
          "base_uri": "https://localhost:8080/",
          "height": 297
        },
        "id": "fLA2QnjeA0NR",
        "outputId": "0a2bc9f1-b7ea-474b-d997-086fb09e6b69"
      },
      "source": [
        "Ds.describe()"
      ],
      "execution_count": null,
      "outputs": [
        {
          "output_type": "execute_result",
          "data": {
            "text/html": [
              "<div>\n",
              "<style scoped>\n",
              "    .dataframe tbody tr th:only-of-type {\n",
              "        vertical-align: middle;\n",
              "    }\n",
              "\n",
              "    .dataframe tbody tr th {\n",
              "        vertical-align: top;\n",
              "    }\n",
              "\n",
              "    .dataframe thead th {\n",
              "        text-align: right;\n",
              "    }\n",
              "</style>\n",
              "<table border=\"1\" class=\"dataframe\">\n",
              "  <thead>\n",
              "    <tr style=\"text-align: right;\">\n",
              "      <th></th>\n",
              "      <th>P</th>\n",
              "      <th>L</th>\n",
              "      <th>D</th>\n",
              "    </tr>\n",
              "  </thead>\n",
              "  <tbody>\n",
              "    <tr>\n",
              "      <th>count</th>\n",
              "      <td>157.000000</td>\n",
              "      <td>157.000000</td>\n",
              "      <td>157.000000</td>\n",
              "    </tr>\n",
              "    <tr>\n",
              "      <th>mean</th>\n",
              "      <td>652.312102</td>\n",
              "      <td>650.080573</td>\n",
              "      <td>2.231529</td>\n",
              "    </tr>\n",
              "    <tr>\n",
              "      <th>std</th>\n",
              "      <td>564.877351</td>\n",
              "      <td>549.752447</td>\n",
              "      <td>30.631841</td>\n",
              "    </tr>\n",
              "    <tr>\n",
              "      <th>min</th>\n",
              "      <td>-275.000000</td>\n",
              "      <td>-271.000000</td>\n",
              "      <td>-36.000000</td>\n",
              "    </tr>\n",
              "    <tr>\n",
              "      <th>25%</th>\n",
              "      <td>329.000000</td>\n",
              "      <td>330.000000</td>\n",
              "      <td>-2.000000</td>\n",
              "    </tr>\n",
              "    <tr>\n",
              "      <th>50%</th>\n",
              "      <td>536.000000</td>\n",
              "      <td>540.000000</td>\n",
              "      <td>-1.000000</td>\n",
              "    </tr>\n",
              "    <tr>\n",
              "      <th>75%</th>\n",
              "      <td>846.000000</td>\n",
              "      <td>852.000000</td>\n",
              "      <td>1.000000</td>\n",
              "    </tr>\n",
              "    <tr>\n",
              "      <th>max</th>\n",
              "      <td>4114.000000</td>\n",
              "      <td>3744.000000</td>\n",
              "      <td>370.000000</td>\n",
              "    </tr>\n",
              "  </tbody>\n",
              "</table>\n",
              "</div>"
            ],
            "text/plain": [
              "                 P            L           D\n",
              "count   157.000000   157.000000  157.000000\n",
              "mean    652.312102   650.080573    2.231529\n",
              "std     564.877351   549.752447   30.631841\n",
              "min    -275.000000  -271.000000  -36.000000\n",
              "25%     329.000000   330.000000   -2.000000\n",
              "50%     536.000000   540.000000   -1.000000\n",
              "75%     846.000000   852.000000    1.000000\n",
              "max    4114.000000  3744.000000  370.000000"
            ]
          },
          "metadata": {},
          "execution_count": 45
        }
      ]
    },
    {
      "cell_type": "markdown",
      "metadata": {
        "id": "e4hkTEf_Buwa"
      },
      "source": [
        "## Random Forest"
      ]
    },
    {
      "cell_type": "code",
      "metadata": {
        "colab": {
          "base_uri": "https://localhost:8080/"
        },
        "id": "ebPMjnUuBxGZ",
        "outputId": "77487013-a3e1-42a0-b003-1f78ade81143"
      },
      "source": [
        "start = time.time()\n",
        "\n",
        "forest = RandomForestRegressor(n_estimators=10, max_depth=10, random_state=42)\n",
        "forest.fit(data_prepared, label_train)\n",
        "\n",
        "t=(time.time() - start)/60\n",
        "print( 'Time in minutes:%5.2f'%t)"
      ],
      "execution_count": null,
      "outputs": [
        {
          "output_type": "stream",
          "text": [
            "Time in minutes: 3.43\n"
          ],
          "name": "stdout"
        }
      ]
    },
    {
      "cell_type": "code",
      "metadata": {
        "colab": {
          "base_uri": "https://localhost:8080/"
        },
        "id": "Vvl0UHCIHJ4i",
        "outputId": "6d931f41-9dd8-4289-dfae-bb4629bb0ad4"
      },
      "source": [
        "predictions = forest.predict(data_prepared)\n",
        "\n",
        "forest_mse = mean_squared_error(label_train, predictions)\n",
        "forest_rmse = np.sqrt(forest_mse)\n",
        "print('RMSE %5.4f'%forest_rmse)\n",
        "\n",
        "score = forest.score(data_prepared,label_train)\n",
        "print(' r^2 score %8.3f \\n' % score)"
      ],
      "execution_count": null,
      "outputs": [
        {
          "output_type": "stream",
          "text": [
            "RMSE 45.2955\n",
            " r^2 score    0.937 \n",
            "\n"
          ],
          "name": "stdout"
        }
      ]
    },
    {
      "cell_type": "code",
      "metadata": {
        "colab": {
          "base_uri": "https://localhost:8080/"
        },
        "id": "DezkrYTIJV3F",
        "outputId": "ace6900b-ab6e-4345-ed1a-58c8d8efdff1"
      },
      "source": [
        "final_predictions = forest.predict(test_prepared)\n",
        "\n",
        "final_mse = mean_squared_error(label_test, final_predictions)\n",
        "final_rmse = np.sqrt(final_mse)\n",
        "print('RMSE %5.4f'%final_rmse)"
      ],
      "execution_count": null,
      "outputs": [
        {
          "output_type": "stream",
          "text": [
            "RMSE 2.7726\n"
          ],
          "name": "stdout"
        }
      ]
    },
    {
      "cell_type": "code",
      "metadata": {
        "colab": {
          "base_uri": "https://localhost:8080/"
        },
        "id": "4Ya8wa4FJYdj",
        "outputId": "bfb3cca2-2d8d-4337-ccd0-1c2791ea368b"
      },
      "source": [
        "score = forest.score(test_prepared,label_test)\n",
        "print(' r^2 score %8.3f \\n' % score)"
      ],
      "execution_count": null,
      "outputs": [
        {
          "output_type": "stream",
          "text": [
            " r^2 score    0.999 \n",
            "\n"
          ],
          "name": "stdout"
        }
      ]
    },
    {
      "cell_type": "markdown",
      "metadata": {
        "id": "aYoc1bfiA-l_"
      },
      "source": [
        "Business Insights"
      ]
    },
    {
      "cell_type": "code",
      "metadata": {
        "colab": {
          "base_uri": "https://localhost:8080/",
          "height": 419
        },
        "id": "iCULOZQaBANu",
        "outputId": "23222456-9b16-4cab-81ba-173661b9d557"
      },
      "source": [
        "df = pd.DataFrame( columns=['prediction','label'] )\n",
        "df['prediction']=pd.Series(final_predictions)\n",
        "df['label']=label_test.reset_index()['Total quantity']\n",
        "df"
      ],
      "execution_count": null,
      "outputs": [
        {
          "output_type": "execute_result",
          "data": {
            "text/html": [
              "<div>\n",
              "<style scoped>\n",
              "    .dataframe tbody tr th:only-of-type {\n",
              "        vertical-align: middle;\n",
              "    }\n",
              "\n",
              "    .dataframe tbody tr th {\n",
              "        vertical-align: top;\n",
              "    }\n",
              "\n",
              "    .dataframe thead th {\n",
              "        text-align: right;\n",
              "    }\n",
              "</style>\n",
              "<table border=\"1\" class=\"dataframe\">\n",
              "  <thead>\n",
              "    <tr style=\"text-align: right;\">\n",
              "      <th></th>\n",
              "      <th>prediction</th>\n",
              "      <th>label</th>\n",
              "    </tr>\n",
              "  </thead>\n",
              "  <tbody>\n",
              "    <tr>\n",
              "      <th>0</th>\n",
              "      <td>6.001679</td>\n",
              "      <td>6.0</td>\n",
              "    </tr>\n",
              "    <tr>\n",
              "      <th>1</th>\n",
              "      <td>2.050186</td>\n",
              "      <td>2.0</td>\n",
              "    </tr>\n",
              "    <tr>\n",
              "      <th>2</th>\n",
              "      <td>2.050186</td>\n",
              "      <td>2.0</td>\n",
              "    </tr>\n",
              "    <tr>\n",
              "      <th>3</th>\n",
              "      <td>1.148348</td>\n",
              "      <td>1.0</td>\n",
              "    </tr>\n",
              "    <tr>\n",
              "      <th>4</th>\n",
              "      <td>2.050186</td>\n",
              "      <td>2.0</td>\n",
              "    </tr>\n",
              "    <tr>\n",
              "      <th>...</th>\n",
              "      <td>...</td>\n",
              "      <td>...</td>\n",
              "    </tr>\n",
              "    <tr>\n",
              "      <th>16178</th>\n",
              "      <td>4.224698</td>\n",
              "      <td>4.0</td>\n",
              "    </tr>\n",
              "    <tr>\n",
              "      <th>16179</th>\n",
              "      <td>19.976928</td>\n",
              "      <td>20.0</td>\n",
              "    </tr>\n",
              "    <tr>\n",
              "      <th>16180</th>\n",
              "      <td>2.050186</td>\n",
              "      <td>2.0</td>\n",
              "    </tr>\n",
              "    <tr>\n",
              "      <th>16181</th>\n",
              "      <td>1.148348</td>\n",
              "      <td>1.0</td>\n",
              "    </tr>\n",
              "    <tr>\n",
              "      <th>16182</th>\n",
              "      <td>1.148348</td>\n",
              "      <td>1.0</td>\n",
              "    </tr>\n",
              "  </tbody>\n",
              "</table>\n",
              "<p>16183 rows × 2 columns</p>\n",
              "</div>"
            ],
            "text/plain": [
              "       prediction  label\n",
              "0        6.001679    6.0\n",
              "1        2.050186    2.0\n",
              "2        2.050186    2.0\n",
              "3        1.148348    1.0\n",
              "4        2.050186    2.0\n",
              "...           ...    ...\n",
              "16178    4.224698    4.0\n",
              "16179   19.976928   20.0\n",
              "16180    2.050186    2.0\n",
              "16181    1.148348    1.0\n",
              "16182    1.148348    1.0\n",
              "\n",
              "[16183 rows x 2 columns]"
            ]
          },
          "metadata": {},
          "execution_count": 50
        }
      ]
    },
    {
      "cell_type": "code",
      "metadata": {
        "colab": {
          "base_uri": "https://localhost:8080/"
        },
        "id": "3VUtlJuKBANv",
        "outputId": "f9e22937-c5fd-4b9c-9037-c930373910d3"
      },
      "source": [
        "Ds=pd.DataFrame(columns=['P','L','D'] )\n",
        "i=0\n",
        "for index,row in df.iterrows():\n",
        "    diff= round(row['prediction'],0)-row['label']\n",
        "    if not diff==0:\n",
        "        i+=1\n",
        "        Ds=Ds.append({'P': row['prediction'],'L': row['label'],'D':diff },ignore_index=True )\n",
        "print(i)"
      ],
      "execution_count": null,
      "outputs": [
        {
          "output_type": "stream",
          "text": [
            "1601\n"
          ],
          "name": "stdout"
        }
      ]
    },
    {
      "cell_type": "code",
      "metadata": {
        "colab": {
          "base_uri": "https://localhost:8080/",
          "height": 297
        },
        "id": "TO76AwgeBANv",
        "outputId": "390270cc-730a-4c0c-b310-a48679f3212c"
      },
      "source": [
        "Ds.describe()"
      ],
      "execution_count": null,
      "outputs": [
        {
          "output_type": "execute_result",
          "data": {
            "text/html": [
              "<div>\n",
              "<style scoped>\n",
              "    .dataframe tbody tr th:only-of-type {\n",
              "        vertical-align: middle;\n",
              "    }\n",
              "\n",
              "    .dataframe tbody tr th {\n",
              "        vertical-align: top;\n",
              "    }\n",
              "\n",
              "    .dataframe thead th {\n",
              "        text-align: right;\n",
              "    }\n",
              "</style>\n",
              "<table border=\"1\" class=\"dataframe\">\n",
              "  <thead>\n",
              "    <tr style=\"text-align: right;\">\n",
              "      <th></th>\n",
              "      <th>P</th>\n",
              "      <th>L</th>\n",
              "      <th>D</th>\n",
              "    </tr>\n",
              "  </thead>\n",
              "  <tbody>\n",
              "    <tr>\n",
              "      <th>count</th>\n",
              "      <td>1601.000000</td>\n",
              "      <td>1601.000000</td>\n",
              "      <td>1601.000000</td>\n",
              "    </tr>\n",
              "    <tr>\n",
              "      <th>mean</th>\n",
              "      <td>75.960547</td>\n",
              "      <td>76.008526</td>\n",
              "      <td>-0.340194</td>\n",
              "    </tr>\n",
              "    <tr>\n",
              "      <th>std</th>\n",
              "      <td>280.629234</td>\n",
              "      <td>277.645428</td>\n",
              "      <td>8.829065</td>\n",
              "    </tr>\n",
              "    <tr>\n",
              "      <th>min</th>\n",
              "      <td>-275.341667</td>\n",
              "      <td>-271.000000</td>\n",
              "      <td>-30.000000</td>\n",
              "    </tr>\n",
              "    <tr>\n",
              "      <th>25%</th>\n",
              "      <td>2.437442</td>\n",
              "      <td>3.000000</td>\n",
              "      <td>-1.000000</td>\n",
              "    </tr>\n",
              "    <tr>\n",
              "      <th>50%</th>\n",
              "      <td>2.437442</td>\n",
              "      <td>3.000000</td>\n",
              "      <td>-1.000000</td>\n",
              "    </tr>\n",
              "    <tr>\n",
              "      <th>75%</th>\n",
              "      <td>2.437442</td>\n",
              "      <td>3.000000</td>\n",
              "      <td>-1.000000</td>\n",
              "    </tr>\n",
              "    <tr>\n",
              "      <th>max</th>\n",
              "      <td>4082.100000</td>\n",
              "      <td>3744.000000</td>\n",
              "      <td>338.000000</td>\n",
              "    </tr>\n",
              "  </tbody>\n",
              "</table>\n",
              "</div>"
            ],
            "text/plain": [
              "                 P            L            D\n",
              "count  1601.000000  1601.000000  1601.000000\n",
              "mean     75.960547    76.008526    -0.340194\n",
              "std     280.629234   277.645428     8.829065\n",
              "min    -275.341667  -271.000000   -30.000000\n",
              "25%       2.437442     3.000000    -1.000000\n",
              "50%       2.437442     3.000000    -1.000000\n",
              "75%       2.437442     3.000000    -1.000000\n",
              "max    4082.100000  3744.000000   338.000000"
            ]
          },
          "metadata": {},
          "execution_count": 52
        }
      ]
    }
  ]
}