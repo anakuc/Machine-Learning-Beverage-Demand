{
  "nbformat": 4,
  "nbformat_minor": 0,
  "metadata": {
    "colab": {
      "name": "Total value sale and Business Case v2.ipynb",
      "provenance": [],
      "collapsed_sections": []
    },
    "kernelspec": {
      "display_name": "Python 3",
      "language": "python",
      "name": "python3"
    },
    "language_info": {
      "codemirror_mode": {
        "name": "ipython",
        "version": 3
      },
      "file_extension": ".py",
      "mimetype": "text/x-python",
      "name": "python",
      "nbconvert_exporter": "python",
      "pygments_lexer": "ipython3",
      "version": "3.7.4"
    },
    "toc": {
      "base_numbering": 1,
      "nav_menu": {},
      "number_sections": true,
      "sideBar": true,
      "skip_h1_title": false,
      "title_cell": "Table of Contents",
      "title_sidebar": "Contents",
      "toc_cell": false,
      "toc_position": {},
      "toc_section_display": true,
      "toc_window_display": false
    }
  },
  "cells": [
    {
      "cell_type": "markdown",
      "metadata": {
        "id": "eqggdDPBar_H"
      },
      "source": [
        "## Initialization"
      ]
    },
    {
      "cell_type": "code",
      "metadata": {
        "id": "q-FUmxTYUF_Z"
      },
      "source": [
        "# Python ≥3.5 is required\n",
        "import sys\n",
        "assert sys.version_info >= (3, 5)\n",
        "\n",
        "# Scikit-Learn ≥0.20 is required\n",
        "import sklearn\n",
        "assert sklearn.__version__ >= \"0.20\"\n",
        "\n",
        "import matplotlib.pyplot as plt\n",
        "\n",
        "import os\n",
        "import time\n",
        "import pandas as pd\n",
        "import numpy as np\n",
        "\n",
        "from sklearn.pipeline import Pipeline\n",
        "from sklearn.preprocessing import StandardScaler\n",
        "from sklearn.model_selection import train_test_split\n",
        "from sklearn.impute import SimpleImputer\n",
        "from sklearn.preprocessing import OneHotEncoder \n",
        "from sklearn.pipeline import FeatureUnion\n",
        "from sklearn.base import BaseEstimator, TransformerMixin\n",
        "\n",
        "#Models\n",
        "from sklearn.linear_model import LinearRegression\n",
        "from sklearn import tree\n",
        "from sklearn.tree import DecisionTreeRegressor\n",
        "from sklearn.tree import DecisionTreeClassifier, plot_tree\n",
        "from sklearn.ensemble import RandomForestRegressor\n",
        "\n",
        "\n",
        "# Model evaluation und visualisation\n",
        "from sklearn.metrics import mean_squared_error\n",
        "from sklearn.model_selection import cross_val_score\n",
        "\n",
        "np.random.seed(42)"
      ],
      "execution_count": null,
      "outputs": []
    },
    {
      "cell_type": "markdown",
      "metadata": {
        "id": "PGWnWCgWaveR"
      },
      "source": [
        "## Load and investigate data"
      ]
    },
    {
      "cell_type": "code",
      "metadata": {
        "colab": {
          "base_uri": "https://localhost:8080/"
        },
        "id": "-1LebXjRUF_a",
        "outputId": "99526a76-df0e-40c8-eae9-401beee4efc3"
      },
      "source": [
        "# NOTICE --- dtype={'Date': 'str'}\n",
        "#data = pd.read_csv('beverage-import.csv',dtype={'Date': 'str'})\n",
        "\n",
        "from google.colab import drive \n",
        "drive.mount(\"/content/gdrive\")\n",
        "data = pd.read_csv('/content/gdrive/MyDrive/Project/beverage-import.csv', index_col=0)"
      ],
      "execution_count": null,
      "outputs": [
        {
          "output_type": "stream",
          "text": [
            "Mounted at /content/gdrive\n"
          ],
          "name": "stdout"
        },
        {
          "output_type": "stream",
          "text": [
            "/usr/local/lib/python3.7/dist-packages/IPython/core/interactiveshell.py:2718: DtypeWarning: Columns (11,12,13,14,19) have mixed types.Specify dtype option on import or set low_memory=False.\n",
            "  interactivity=interactivity, compiler=compiler, result=result)\n"
          ],
          "name": "stderr"
        }
      ]
    },
    {
      "cell_type": "code",
      "metadata": {
        "colab": {
          "base_uri": "https://localhost:8080/"
        },
        "id": "WvhccWFoUF_c",
        "outputId": "d28a9064-7f43-4c9c-9dd9-a95722ca3b96"
      },
      "source": [
        "column_names = data.columns\n",
        "for c in column_names:\n",
        "    print( c, ':', data[c].nunique(), data[c].isna().sum() )"
      ],
      "execution_count": null,
      "outputs": [
        {
          "output_type": "stream",
          "text": [
            "Customer : 3112 0\n",
            "Sales Rep : 45 0\n",
            "Month : 12 0\n",
            "Year : 3 0\n",
            "Date : 28 0\n",
            "Code and description  : 1136 0\n",
            "Code Prod : 723 0\n",
            "Description : 1328 0\n",
            "Quantity : 1375 0\n",
            "Units : 7 5767\n",
            "Total quantity : 1264 0\n",
            "Value Sale : 28467 0\n",
            "Tax : 22865 0\n",
            "Total value sale : 26529 0\n",
            "Channel : 15 48\n",
            "Brand : 62 0\n",
            "Category : 14 0\n",
            "Comment : 14 80505\n",
            "Unit price : 9339 629\n",
            "Unnamed: 20 : 0 81228\n"
          ],
          "name": "stdout"
        }
      ]
    },
    {
      "cell_type": "markdown",
      "metadata": {
        "id": "bjscJc5aUF_d"
      },
      "source": [
        "## Clean the data"
      ]
    },
    {
      "cell_type": "code",
      "metadata": {
        "id": "QWZUjU2SUF_d"
      },
      "source": [
        "data = data.drop(['Unnamed: 20', 'Comment'], axis=1)"
      ],
      "execution_count": null,
      "outputs": []
    },
    {
      "cell_type": "code",
      "metadata": {
        "id": "HNbksRcY3im2"
      },
      "source": [
        "data['NewDate']= data['Date'] \\\n",
        "        .map({'ENERO -- 2015':1, 'FEBRERO -- 2015':2, 'MARZO -- 2015':3,\n",
        "       'ABRIL -- 2015':4, 'MAYO -- 2015':5, 'JUNIO -- 2015':6, 'JULIO -- 2015':7,\n",
        "       'AGOSTO -- 2015':8, 'SEPTIEMBRE -- 2015':9, 'OCTUBRE -- 2015':10,\n",
        "       'NOVIEMBRE -- 2015':11, 'DICIEMBRE -- 2015':12, 'ENERO -- 2016':13,\n",
        "       'FEBRERO -- 2016':14, 'MARZO -- 2016':15, 'ABRIL -- 2016':16,\n",
        "       'MAYO -- 2016':17, 'JUNIO -- 2016':18, 'JULIO -- 2016':19, 'AGOSTO -- 2016':20,\n",
        "       'SEPTIEMBRE -- 2016':21, 'OCTUBRE -- 2016':22, 'NOVIEMBRE -- 2016':23,\n",
        "       'DICIEMBRE -- 2016':24, 'ENERO -- 2017':25, 'FEBRERO -- 2017':26,\n",
        "       'MARZO -- 2017':27, 'ABRIL -- 2017':28})"
      ],
      "execution_count": null,
      "outputs": []
    },
    {
      "cell_type": "code",
      "metadata": {
        "id": "tSKr_1Kc3im3"
      },
      "source": [
        "# NewDate replaces them\n",
        "data=data.drop(['Month','Year','Date'],axis=1)"
      ],
      "execution_count": null,
      "outputs": []
    },
    {
      "cell_type": "code",
      "metadata": {
        "id": "-BCOcad6C5Nw"
      },
      "source": [
        "# NewDate is now numeric\n",
        "numeric_columns=['NewDate',\"Quantity\", \"Total quantity\", \"Value Sale\", \"Tax\", \"Total value sale\", \"Unit price\" ]"
      ],
      "execution_count": null,
      "outputs": []
    },
    {
      "cell_type": "code",
      "metadata": {
        "id": "Xz-Mkq_xSv4a"
      },
      "source": [
        "#Removing brackets\n",
        "data['Total value sale'] = data['Total value sale'].replace(to_replace='\\(', value=\"\", regex=True)\n",
        "data['Total value sale'] = data['Total value sale'].replace(to_replace='\\)', value=\"\", regex=True)"
      ],
      "execution_count": null,
      "outputs": []
    },
    {
      "cell_type": "code",
      "metadata": {
        "id": "Jyjgw2qt54pF"
      },
      "source": [
        "data = data.dropna() # Removes every row which has at least one NaN"
      ],
      "execution_count": null,
      "outputs": []
    },
    {
      "cell_type": "code",
      "metadata": {
        "id": "DWVX9D3sC5Nx"
      },
      "source": [
        "for c in numeric_columns:\n",
        "    data[c].replace(',', '', regex=True, inplace=True)\n",
        "    data[c]= pd.to_numeric( data[c],errors='raise') "
      ],
      "execution_count": null,
      "outputs": []
    },
    {
      "cell_type": "code",
      "metadata": {
        "id": "honsZ_nD3im5"
      },
      "source": [
        "# Some more cleaning ... (used to be in the cat_names handling)\n",
        "data=data.drop(['Description', 'Code and description '],axis=1)"
      ],
      "execution_count": null,
      "outputs": []
    },
    {
      "cell_type": "code",
      "metadata": {
        "colab": {
          "base_uri": "https://localhost:8080/"
        },
        "id": "j9khCPpQC5Ny",
        "outputId": "c1264ba3-8a26-49c9-9011-70e2c942521f"
      },
      "source": [
        "print('Data length ',len(data),'\\n' )\n",
        "\n",
        "column_names = data.columns\n",
        "for c in column_names:\n",
        "    print( c, ':',type(data[c][0]),data[c].nunique() )"
      ],
      "execution_count": null,
      "outputs": [
        {
          "output_type": "stream",
          "text": [
            "Data length  74832 \n",
            "\n",
            "Customer : <class 'str'> 3034\n",
            "Sales Rep : <class 'str'> 45\n",
            "Code Prod : <class 'str'> 715\n",
            "Quantity : <class 'numpy.float64'> 896\n",
            "Units : <class 'str'> 7\n",
            "Total quantity : <class 'numpy.float64'> 896\n",
            "Value Sale : <class 'numpy.float64'> 24043\n",
            "Tax : <class 'numpy.float64'> 18371\n",
            "Total value sale : <class 'numpy.float64'> 21633\n",
            "Channel : <class 'str'> 14\n",
            "Brand : <class 'str'> 62\n",
            "Category : <class 'str'> 13\n",
            "Unit price : <class 'numpy.float64'> 6921\n",
            "NewDate : <class 'numpy.int64'> 28\n"
          ],
          "name": "stdout"
        }
      ]
    },
    {
      "cell_type": "code",
      "metadata": {
        "id": "YRQLX4Ex3im5"
      },
      "source": [
        "originalData = data"
      ],
      "execution_count": null,
      "outputs": []
    },
    {
      "cell_type": "markdown",
      "metadata": {
        "id": "wNGbL8KzUF_e"
      },
      "source": [
        "## Test-Train split and DataFrame to Numpy"
      ]
    },
    {
      "cell_type": "code",
      "metadata": {
        "id": "aEv-cThy3im6"
      },
      "source": [
        "# Change -- first 25 vs. final 3 months\n",
        "\n",
        "# The first 25 months are the training set and the final 3 months are the test set\n",
        "# Other combinations are possible, e.g., more months at the end\n",
        "\n",
        "features_train=data[data['NewDate']<23]\n",
        "features_test=data[data['NewDate']>=23]"
      ],
      "execution_count": null,
      "outputs": []
    },
    {
      "cell_type": "code",
      "metadata": {
        "id": "Kz-p9MZY3im6"
      },
      "source": [
        "label_train=features_train['Total value sale']\n",
        "label_test=features_test['Total value sale']"
      ],
      "execution_count": null,
      "outputs": []
    },
    {
      "cell_type": "code",
      "metadata": {
        "id": "KTWwbq3mUF_e"
      },
      "source": [
        "features_train=features_train.drop('Total value sale', axis=1)\n",
        "features_test=features_test.drop('Total value sale', axis=1)"
      ],
      "execution_count": null,
      "outputs": []
    },
    {
      "cell_type": "code",
      "metadata": {
        "colab": {
          "base_uri": "https://localhost:8080/"
        },
        "id": "cJxzYsOXUF_d",
        "outputId": "b058f1dc-3d88-420a-e7de-88960e15b303"
      },
      "source": [
        "print(features_train.shape, label_train.shape)"
      ],
      "execution_count": null,
      "outputs": [
        {
          "output_type": "stream",
          "text": [
            "(58649, 13) (58649,)\n"
          ],
          "name": "stdout"
        }
      ]
    },
    {
      "cell_type": "code",
      "metadata": {
        "colab": {
          "base_uri": "https://localhost:8080/"
        },
        "id": "VxAHFs1uC5N1",
        "outputId": "daf00ed0-ccdf-45b8-e917-778c158a6644"
      },
      "source": [
        "print(features_train.columns)"
      ],
      "execution_count": null,
      "outputs": [
        {
          "output_type": "stream",
          "text": [
            "Index(['Customer', 'Sales Rep', 'Code Prod', 'Quantity', 'Units',\n",
            "       'Total quantity', 'Value Sale', 'Tax', 'Channel', 'Brand', 'Category',\n",
            "       'Unit price', 'NewDate'],\n",
            "      dtype='object')\n"
          ],
          "name": "stdout"
        }
      ]
    },
    {
      "cell_type": "code",
      "metadata": {
        "id": "OuiJvz16xjzI"
      },
      "source": [
        "cat_names = ['Customer', 'Sales Rep', 'Code Prod', 'Channel',  'Brand', 'Category','Units' ] \n",
        "num_names = [ 'NewDate', 'Quantity', 'Total quantity', 'Value Sale', 'Tax','Unit price'] "
      ],
      "execution_count": null,
      "outputs": []
    },
    {
      "cell_type": "code",
      "metadata": {
        "id": "W4vgAtH0C5N2"
      },
      "source": [
        "features_cat = features_train[cat_names]\n",
        "features_num = features_train[num_names]"
      ],
      "execution_count": null,
      "outputs": []
    },
    {
      "cell_type": "code",
      "metadata": {
        "id": "EygFQsfVUF_f"
      },
      "source": [
        "class DataFrameSelector(BaseEstimator, TransformerMixin):\n",
        "    def __init__(self, feature_names):\n",
        "        self.attribute_names = feature_names\n",
        "    def fit(self, X, y=None):\n",
        "        return self\n",
        "    def transform(self, X):\n",
        "        return X[self.attribute_names].values"
      ],
      "execution_count": null,
      "outputs": []
    },
    {
      "cell_type": "code",
      "metadata": {
        "id": "OCUmyi_Aymmv"
      },
      "source": [
        "num_pipeline = Pipeline([\n",
        "        ('selector', DataFrameSelector(num_names)),\n",
        "        ('imputer', SimpleImputer(strategy=\"median\")),\n",
        "        ('std_scaler', StandardScaler()),\n",
        "    ])\n",
        "\n",
        "temp = num_pipeline.fit_transform(features_num)"
      ],
      "execution_count": null,
      "outputs": []
    },
    {
      "cell_type": "code",
      "metadata": {
        "id": "K7riOk8Uynhv"
      },
      "source": [
        "# handle_unknown = 'ignore' to handle item IDs that appear only in the test set\n",
        "cat_pipeline = Pipeline([\n",
        "        ('selector', DataFrameSelector(cat_names)),\n",
        "        ('cat_encoder', OneHotEncoder(sparse=False,handle_unknown = 'ignore')),\n",
        "    ])\n",
        "\n",
        "temp1 = cat_pipeline.fit_transform(features_train)"
      ],
      "execution_count": null,
      "outputs": []
    },
    {
      "cell_type": "code",
      "metadata": {
        "id": "61-t0kWpypfi"
      },
      "source": [
        "full_pipeline = FeatureUnion(transformer_list=[\n",
        "        (\"num_pipeline\", num_pipeline),\n",
        "        (\"cat_pipeline\", cat_pipeline),\n",
        "    ])\n",
        "data_prepared = full_pipeline.fit_transform(features_train)"
      ],
      "execution_count": null,
      "outputs": []
    },
    {
      "cell_type": "code",
      "metadata": {
        "colab": {
          "base_uri": "https://localhost:8080/"
        },
        "id": "cZ1UECqKUF_g",
        "outputId": "5e48aad3-5e9d-4120-eb77-99b339e3bf03"
      },
      "source": [
        "print(data_prepared.shape, label_train.shape)"
      ],
      "execution_count": null,
      "outputs": [
        {
          "output_type": "stream",
          "text": [
            "(58649, 3219) (58649,)\n"
          ],
          "name": "stdout"
        }
      ]
    },
    {
      "cell_type": "markdown",
      "metadata": {
        "id": "ajotp2jDwsqW"
      },
      "source": [
        "## Linear Regression"
      ]
    },
    {
      "cell_type": "code",
      "metadata": {
        "colab": {
          "base_uri": "https://localhost:8080/"
        },
        "id": "3HHPgcX-wsqX",
        "outputId": "fc74ed34-648f-44e7-c2eb-6a55df7a381d"
      },
      "source": [
        "start = time.time()\n",
        "\n",
        "linear_regression = LinearRegression()\n",
        "linear_regression.fit(data_prepared, label_train)\n",
        "\n",
        "t=(time.time() - start)/60\n",
        "print( 'Time in minutes:%5.2f'%t)"
      ],
      "execution_count": null,
      "outputs": [
        {
          "output_type": "stream",
          "text": [
            "Time in minutes: 1.27\n"
          ],
          "name": "stdout"
        }
      ]
    },
    {
      "cell_type": "code",
      "metadata": {
        "colab": {
          "base_uri": "https://localhost:8080/"
        },
        "id": "GZ5CTuLDwsqX",
        "outputId": "ce77aeb0-9a17-47d1-bbbb-157204b680f1"
      },
      "source": [
        "predictions = linear_regression.predict(data_prepared)\n",
        "\n",
        "mse = mean_squared_error(label_train, predictions)\n",
        "rmse = np.sqrt(mse)\n",
        "print('RMSE %5.4f'% rmse)\n",
        "\n",
        "score = linear_regression.score(data_prepared, label_train)\n",
        "print(' r^2 score %8.3f \\n' % score)"
      ],
      "execution_count": null,
      "outputs": [
        {
          "output_type": "stream",
          "text": [
            "RMSE 0.0000\n",
            " r^2 score    1.000 \n",
            "\n"
          ],
          "name": "stdout"
        }
      ]
    },
    {
      "cell_type": "code",
      "metadata": {
        "colab": {
          "base_uri": "https://localhost:8080/"
        },
        "id": "ReGl89D_JQQo",
        "outputId": "734f359f-b290-4b24-b729-06e29dd0d191"
      },
      "source": [
        "test_prepared = full_pipeline.transform(features_test)\n",
        "\n",
        "test_prepared.shape"
      ],
      "execution_count": null,
      "outputs": [
        {
          "output_type": "execute_result",
          "data": {
            "text/plain": [
              "(16183, 3219)"
            ]
          },
          "metadata": {},
          "execution_count": 28
        }
      ]
    },
    {
      "cell_type": "code",
      "metadata": {
        "colab": {
          "base_uri": "https://localhost:8080/"
        },
        "id": "tfMM7eEywsqZ",
        "outputId": "11e0c656-6599-4803-fe53-6b21fd3e90ca"
      },
      "source": [
        "final_predictions = linear_regression.predict(test_prepared)\n",
        "\n",
        "final_mse = mean_squared_error(label_test, final_predictions)\n",
        "final_rmse = np.sqrt(final_mse)\n",
        "print('RMSE %5.4f'%final_rmse)\n",
        "\n",
        "score = linear_regression.score(test_prepared,label_test)\n",
        "print(' r^2 score %8.3f \\n' % score)"
      ],
      "execution_count": null,
      "outputs": [
        {
          "output_type": "stream",
          "text": [
            "RMSE 2.0712\n",
            " r^2 score    1.000 \n",
            "\n"
          ],
          "name": "stdout"
        }
      ]
    },
    {
      "cell_type": "markdown",
      "metadata": {
        "id": "TEyD3W_j3im-"
      },
      "source": [
        "Business insight"
      ]
    },
    {
      "cell_type": "code",
      "metadata": {
        "colab": {
          "base_uri": "https://localhost:8080/",
          "height": 424
        },
        "id": "DR0zfblb3im-",
        "outputId": "d41c6275-fe2b-48b0-948d-e8170c72a4d5"
      },
      "source": [
        "df = pd.DataFrame( columns=['prediction','label'] )\n",
        "df['prediction']=pd.Series(final_predictions)\n",
        "df['label']=label_test.reset_index()['Total value sale']\n",
        "df"
      ],
      "execution_count": null,
      "outputs": [
        {
          "output_type": "execute_result",
          "data": {
            "text/html": [
              "<div>\n",
              "<style scoped>\n",
              "    .dataframe tbody tr th:only-of-type {\n",
              "        vertical-align: middle;\n",
              "    }\n",
              "\n",
              "    .dataframe tbody tr th {\n",
              "        vertical-align: top;\n",
              "    }\n",
              "\n",
              "    .dataframe thead th {\n",
              "        text-align: right;\n",
              "    }\n",
              "</style>\n",
              "<table border=\"1\" class=\"dataframe\">\n",
              "  <thead>\n",
              "    <tr style=\"text-align: right;\">\n",
              "      <th></th>\n",
              "      <th>prediction</th>\n",
              "      <th>label</th>\n",
              "    </tr>\n",
              "  </thead>\n",
              "  <tbody>\n",
              "    <tr>\n",
              "      <th>0</th>\n",
              "      <td>224.851298</td>\n",
              "      <td>225.18</td>\n",
              "    </tr>\n",
              "    <tr>\n",
              "      <th>1</th>\n",
              "      <td>210.000000</td>\n",
              "      <td>210.00</td>\n",
              "    </tr>\n",
              "    <tr>\n",
              "      <th>2</th>\n",
              "      <td>360.000000</td>\n",
              "      <td>360.00</td>\n",
              "    </tr>\n",
              "    <tr>\n",
              "      <th>3</th>\n",
              "      <td>175.000000</td>\n",
              "      <td>175.00</td>\n",
              "    </tr>\n",
              "    <tr>\n",
              "      <th>4</th>\n",
              "      <td>292.000000</td>\n",
              "      <td>292.00</td>\n",
              "    </tr>\n",
              "    <tr>\n",
              "      <th>...</th>\n",
              "      <td>...</td>\n",
              "      <td>...</td>\n",
              "    </tr>\n",
              "    <tr>\n",
              "      <th>16178</th>\n",
              "      <td>-13.473716</td>\n",
              "      <td>0.01</td>\n",
              "    </tr>\n",
              "    <tr>\n",
              "      <th>16179</th>\n",
              "      <td>66.516284</td>\n",
              "      <td>80.00</td>\n",
              "    </tr>\n",
              "    <tr>\n",
              "      <th>16180</th>\n",
              "      <td>40.266284</td>\n",
              "      <td>53.75</td>\n",
              "    </tr>\n",
              "    <tr>\n",
              "      <th>16181</th>\n",
              "      <td>20.443383</td>\n",
              "      <td>34.30</td>\n",
              "    </tr>\n",
              "    <tr>\n",
              "      <th>16182</th>\n",
              "      <td>36.937582</td>\n",
              "      <td>50.75</td>\n",
              "    </tr>\n",
              "  </tbody>\n",
              "</table>\n",
              "<p>16183 rows × 2 columns</p>\n",
              "</div>"
            ],
            "text/plain": [
              "       prediction   label\n",
              "0      224.851298  225.18\n",
              "1      210.000000  210.00\n",
              "2      360.000000  360.00\n",
              "3      175.000000  175.00\n",
              "4      292.000000  292.00\n",
              "...           ...     ...\n",
              "16178  -13.473716    0.01\n",
              "16179   66.516284   80.00\n",
              "16180   40.266284   53.75\n",
              "16181   20.443383   34.30\n",
              "16182   36.937582   50.75\n",
              "\n",
              "[16183 rows x 2 columns]"
            ]
          },
          "metadata": {},
          "execution_count": 30
        }
      ]
    },
    {
      "cell_type": "code",
      "metadata": {
        "colab": {
          "base_uri": "https://localhost:8080/"
        },
        "id": "PaHMBplO3im-",
        "outputId": "5da67b73-6155-40c0-fe00-4c668f292276"
      },
      "source": [
        "Ds=pd.DataFrame(columns=['P','L','D'] )\n",
        "i=0\n",
        "for index,row in df.iterrows():\n",
        "    diff= round(row['prediction'],0)-row['label']\n",
        "    if not diff>1:\n",
        "        i+=1\n",
        "        Ds=Ds.append({'P': row['prediction'],'L': row['label'],'D':diff },ignore_index=True )\n",
        "print(i)"
      ],
      "execution_count": null,
      "outputs": [
        {
          "output_type": "stream",
          "text": [
            "16113\n"
          ],
          "name": "stdout"
        }
      ]
    },
    {
      "cell_type": "code",
      "metadata": {
        "colab": {
          "base_uri": "https://localhost:8080/",
          "height": 300
        },
        "id": "6wluYrJX3im-",
        "outputId": "c32223e4-0943-4f74-8e20-0d88b3aa3fd0"
      },
      "source": [
        "Ds.describe()"
      ],
      "execution_count": null,
      "outputs": [
        {
          "output_type": "execute_result",
          "data": {
            "text/html": [
              "<div>\n",
              "<style scoped>\n",
              "    .dataframe tbody tr th:only-of-type {\n",
              "        vertical-align: middle;\n",
              "    }\n",
              "\n",
              "    .dataframe tbody tr th {\n",
              "        vertical-align: top;\n",
              "    }\n",
              "\n",
              "    .dataframe thead th {\n",
              "        text-align: right;\n",
              "    }\n",
              "</style>\n",
              "<table border=\"1\" class=\"dataframe\">\n",
              "  <thead>\n",
              "    <tr style=\"text-align: right;\">\n",
              "      <th></th>\n",
              "      <th>P</th>\n",
              "      <th>L</th>\n",
              "      <th>D</th>\n",
              "    </tr>\n",
              "  </thead>\n",
              "  <tbody>\n",
              "    <tr>\n",
              "      <th>count</th>\n",
              "      <td>16113.000000</td>\n",
              "      <td>16113.000000</td>\n",
              "      <td>16113.000000</td>\n",
              "    </tr>\n",
              "    <tr>\n",
              "      <th>mean</th>\n",
              "      <td>651.696972</td>\n",
              "      <td>652.008897</td>\n",
              "      <td>-0.299904</td>\n",
              "    </tr>\n",
              "    <tr>\n",
              "      <th>std</th>\n",
              "      <td>2029.370141</td>\n",
              "      <td>2029.324797</td>\n",
              "      <td>1.864076</td>\n",
              "    </tr>\n",
              "    <tr>\n",
              "      <th>min</th>\n",
              "      <td>-17688.290000</td>\n",
              "      <td>-17688.290000</td>\n",
              "      <td>-31.000000</td>\n",
              "    </tr>\n",
              "    <tr>\n",
              "      <th>25%</th>\n",
              "      <td>77.400000</td>\n",
              "      <td>77.930000</td>\n",
              "      <td>-0.240000</td>\n",
              "    </tr>\n",
              "    <tr>\n",
              "      <th>50%</th>\n",
              "      <td>201.000000</td>\n",
              "      <td>201.300000</td>\n",
              "      <td>0.000000</td>\n",
              "    </tr>\n",
              "    <tr>\n",
              "      <th>75%</th>\n",
              "      <td>527.310000</td>\n",
              "      <td>527.310000</td>\n",
              "      <td>0.100000</td>\n",
              "    </tr>\n",
              "    <tr>\n",
              "      <th>max</th>\n",
              "      <td>83568.000000</td>\n",
              "      <td>83568.000000</td>\n",
              "      <td>1.000000</td>\n",
              "    </tr>\n",
              "  </tbody>\n",
              "</table>\n",
              "</div>"
            ],
            "text/plain": [
              "                  P             L             D\n",
              "count  16113.000000  16113.000000  16113.000000\n",
              "mean     651.696972    652.008897     -0.299904\n",
              "std     2029.370141   2029.324797      1.864076\n",
              "min   -17688.290000 -17688.290000    -31.000000\n",
              "25%       77.400000     77.930000     -0.240000\n",
              "50%      201.000000    201.300000      0.000000\n",
              "75%      527.310000    527.310000      0.100000\n",
              "max    83568.000000  83568.000000      1.000000"
            ]
          },
          "metadata": {},
          "execution_count": 32
        }
      ]
    },
    {
      "cell_type": "code",
      "metadata": {
        "id": "SMg8D2Km3im_"
      },
      "source": [
        "# Out of the test set (three last months, 6023 transactions)\n",
        "# There were 348 predictions which were not perfect\n",
        "# and you can further analyze them through the data frame Ds"
      ],
      "execution_count": null,
      "outputs": []
    },
    {
      "cell_type": "markdown",
      "metadata": {
        "id": "gw8QxKeqBNJw"
      },
      "source": [
        "## Decision Tree"
      ]
    },
    {
      "cell_type": "code",
      "metadata": {
        "colab": {
          "base_uri": "https://localhost:8080/"
        },
        "id": "1Nivu6hmBPtI",
        "outputId": "dfc03f29-d038-4540-f07c-b26c07376d99"
      },
      "source": [
        "import time\n",
        "start = time.time()\n",
        "\n",
        "DTR= DecisionTreeRegressor()\n",
        "DTR.fit(data_prepared, label_train)\n",
        "\n",
        "t=(time.time() - start)/60\n",
        "print( 'Time in minutes:%5.2f'%t)"
      ],
      "execution_count": null,
      "outputs": [
        {
          "output_type": "stream",
          "text": [
            "Time in minutes: 0.45\n"
          ],
          "name": "stdout"
        }
      ]
    },
    {
      "cell_type": "code",
      "metadata": {
        "colab": {
          "base_uri": "https://localhost:8080/"
        },
        "id": "acOoWY_zBnEB",
        "outputId": "668d055d-5d4e-42f5-e689-f862785d2260"
      },
      "source": [
        "predictions = DTR.predict(data_prepared)\n",
        "\n",
        "DTR_mse = mean_squared_error(label_train, predictions)\n",
        "print('%5.4f'%DTR_mse)\n",
        "\n",
        "DTR_rmse = np.sqrt(DTR_mse)\n",
        "print('RMSE %5.4f'%DTR_rmse)"
      ],
      "execution_count": null,
      "outputs": [
        {
          "output_type": "stream",
          "text": [
            "0.0000\n",
            "RMSE 0.0001\n"
          ],
          "name": "stdout"
        }
      ]
    },
    {
      "cell_type": "code",
      "metadata": {
        "id": "HtpzKdguBpbM"
      },
      "source": [
        "scores = cross_val_score(DTR, data_prepared, label_train, scoring=\"neg_mean_squared_error\", cv=3)\n",
        "DTR_rmse_scores = np.sqrt(-scores)\n",
        "r2_scores = cross_val_score(DTR, data_prepared, label_train, scoring=\"r2\", cv=3)"
      ],
      "execution_count": null,
      "outputs": []
    },
    {
      "cell_type": "code",
      "metadata": {
        "colab": {
          "base_uri": "https://localhost:8080/"
        },
        "id": "KKRDam5kBryv",
        "outputId": "224cfe3d-ce51-4611-8b03-5dd7f1bf228b"
      },
      "source": [
        "print(DTR_rmse_scores)\n",
        "print(r2_scores)"
      ],
      "execution_count": null,
      "outputs": [
        {
          "output_type": "stream",
          "text": [
            "[  16.07324259 3548.95779502  277.14625879]\n",
            "[0.99993757 0.45725354 0.97778836]\n"
          ],
          "name": "stdout"
        }
      ]
    },
    {
      "cell_type": "code",
      "metadata": {
        "colab": {
          "base_uri": "https://localhost:8080/"
        },
        "id": "z3Xa6ZxiBuRG",
        "outputId": "cd9088da-8126-48c7-9998-7b28ef8c7d50"
      },
      "source": [
        "test_prepared = full_pipeline.transform(features_test)\n",
        "\n",
        "test_prepared.shape"
      ],
      "execution_count": null,
      "outputs": [
        {
          "output_type": "execute_result",
          "data": {
            "text/plain": [
              "(16183, 3219)"
            ]
          },
          "metadata": {},
          "execution_count": 38
        }
      ]
    },
    {
      "cell_type": "code",
      "metadata": {
        "colab": {
          "base_uri": "https://localhost:8080/"
        },
        "id": "OtGoiZSKBwiK",
        "outputId": "e8e6de15-8374-4675-fe6d-4ddad4fc3493"
      },
      "source": [
        "final_predictions = DTR.predict(test_prepared)\n",
        "\n",
        "final_mse = mean_squared_error(label_test, final_predictions)\n",
        "final_rmse = np.sqrt(final_mse)\n",
        "print('RMSE %5.4f'%final_rmse)"
      ],
      "execution_count": null,
      "outputs": [
        {
          "output_type": "stream",
          "text": [
            "RMSE 130.0713\n"
          ],
          "name": "stdout"
        }
      ]
    },
    {
      "cell_type": "code",
      "metadata": {
        "colab": {
          "base_uri": "https://localhost:8080/"
        },
        "id": "CLfd2jb1B3GT",
        "outputId": "eef35469-2404-4f75-f3ed-4a35e529aebf"
      },
      "source": [
        "score = DTR.score(test_prepared,label_test)\n",
        "print(' r^2 score %8.3f \\n' % score)"
      ],
      "execution_count": null,
      "outputs": [
        {
          "output_type": "stream",
          "text": [
            " r^2 score    0.996 \n",
            "\n"
          ],
          "name": "stdout"
        }
      ]
    },
    {
      "cell_type": "code",
      "metadata": {
        "id": "7P46sabHB5NX"
      },
      "source": [
        "#DTR = DTR.fit(data_prepared, label_train)\n",
        "#tree.plot_tree(DTR) \n",
        "#plt.show()"
      ],
      "execution_count": null,
      "outputs": []
    },
    {
      "cell_type": "code",
      "metadata": {
        "id": "y4staooFB7PL"
      },
      "source": [
        "#DTR = DTR.fit(test_prepared, label_test)\n",
        "#tree.plot_tree(DTR) \n",
        "#plt.show()"
      ],
      "execution_count": null,
      "outputs": []
    },
    {
      "cell_type": "markdown",
      "metadata": {
        "id": "iZjMqT8yAxdp"
      },
      "source": [
        "Business Insights"
      ]
    },
    {
      "cell_type": "code",
      "metadata": {
        "colab": {
          "base_uri": "https://localhost:8080/",
          "height": 424
        },
        "id": "fQSllzSSA0NR",
        "outputId": "a0a39d7a-0c00-48ec-b9e9-7ed7e6d5e7dd"
      },
      "source": [
        "df = pd.DataFrame( columns=['prediction','label'] )\n",
        "df['prediction']=pd.Series(final_predictions)\n",
        "df['label']=label_test.reset_index()['Total value sale']\n",
        "df"
      ],
      "execution_count": null,
      "outputs": [
        {
          "output_type": "execute_result",
          "data": {
            "text/html": [
              "<div>\n",
              "<style scoped>\n",
              "    .dataframe tbody tr th:only-of-type {\n",
              "        vertical-align: middle;\n",
              "    }\n",
              "\n",
              "    .dataframe tbody tr th {\n",
              "        vertical-align: top;\n",
              "    }\n",
              "\n",
              "    .dataframe thead th {\n",
              "        text-align: right;\n",
              "    }\n",
              "</style>\n",
              "<table border=\"1\" class=\"dataframe\">\n",
              "  <thead>\n",
              "    <tr style=\"text-align: right;\">\n",
              "      <th></th>\n",
              "      <th>prediction</th>\n",
              "      <th>label</th>\n",
              "    </tr>\n",
              "  </thead>\n",
              "  <tbody>\n",
              "    <tr>\n",
              "      <th>0</th>\n",
              "      <td>225.180000</td>\n",
              "      <td>225.18</td>\n",
              "    </tr>\n",
              "    <tr>\n",
              "      <th>1</th>\n",
              "      <td>210.000000</td>\n",
              "      <td>210.00</td>\n",
              "    </tr>\n",
              "    <tr>\n",
              "      <th>2</th>\n",
              "      <td>360.000000</td>\n",
              "      <td>360.00</td>\n",
              "    </tr>\n",
              "    <tr>\n",
              "      <th>3</th>\n",
              "      <td>175.000000</td>\n",
              "      <td>175.00</td>\n",
              "    </tr>\n",
              "    <tr>\n",
              "      <th>4</th>\n",
              "      <td>291.780000</td>\n",
              "      <td>292.00</td>\n",
              "    </tr>\n",
              "    <tr>\n",
              "      <th>...</th>\n",
              "      <td>...</td>\n",
              "      <td>...</td>\n",
              "    </tr>\n",
              "    <tr>\n",
              "      <th>16178</th>\n",
              "      <td>0.009994</td>\n",
              "      <td>0.01</td>\n",
              "    </tr>\n",
              "    <tr>\n",
              "      <th>16179</th>\n",
              "      <td>80.000000</td>\n",
              "      <td>80.00</td>\n",
              "    </tr>\n",
              "    <tr>\n",
              "      <th>16180</th>\n",
              "      <td>53.760000</td>\n",
              "      <td>53.75</td>\n",
              "    </tr>\n",
              "    <tr>\n",
              "      <th>16181</th>\n",
              "      <td>34.300000</td>\n",
              "      <td>34.30</td>\n",
              "    </tr>\n",
              "    <tr>\n",
              "      <th>16182</th>\n",
              "      <td>50.750000</td>\n",
              "      <td>50.75</td>\n",
              "    </tr>\n",
              "  </tbody>\n",
              "</table>\n",
              "<p>16183 rows × 2 columns</p>\n",
              "</div>"
            ],
            "text/plain": [
              "       prediction   label\n",
              "0      225.180000  225.18\n",
              "1      210.000000  210.00\n",
              "2      360.000000  360.00\n",
              "3      175.000000  175.00\n",
              "4      291.780000  292.00\n",
              "...           ...     ...\n",
              "16178    0.009994    0.01\n",
              "16179   80.000000   80.00\n",
              "16180   53.760000   53.75\n",
              "16181   34.300000   34.30\n",
              "16182   50.750000   50.75\n",
              "\n",
              "[16183 rows x 2 columns]"
            ]
          },
          "metadata": {},
          "execution_count": 43
        }
      ]
    },
    {
      "cell_type": "code",
      "metadata": {
        "colab": {
          "base_uri": "https://localhost:8080/"
        },
        "id": "jn-_p6BGA0NR",
        "outputId": "890e16b9-f85a-4207-f993-62d96d60e734"
      },
      "source": [
        "Ds=pd.DataFrame(columns=['P','L','D'] )\n",
        "i=0\n",
        "for index,row in df.iterrows():\n",
        "    diff= round(row['prediction'],0)-row['label']\n",
        "    if not diff>1:\n",
        "        i+=1\n",
        "        Ds=Ds.append({'P': row['prediction'],'L': row['label'],'D':diff },ignore_index=True )\n",
        "print(i)"
      ],
      "execution_count": null,
      "outputs": [
        {
          "output_type": "stream",
          "text": [
            "15800\n"
          ],
          "name": "stdout"
        }
      ]
    },
    {
      "cell_type": "code",
      "metadata": {
        "colab": {
          "base_uri": "https://localhost:8080/",
          "height": 300
        },
        "id": "fLA2QnjeA0NR",
        "outputId": "e3eca696-9611-467d-c454-c64916b51c08"
      },
      "source": [
        "Ds.describe()"
      ],
      "execution_count": null,
      "outputs": [
        {
          "output_type": "execute_result",
          "data": {
            "text/html": [
              "<div>\n",
              "<style scoped>\n",
              "    .dataframe tbody tr th:only-of-type {\n",
              "        vertical-align: middle;\n",
              "    }\n",
              "\n",
              "    .dataframe tbody tr th {\n",
              "        vertical-align: top;\n",
              "    }\n",
              "\n",
              "    .dataframe thead th {\n",
              "        text-align: right;\n",
              "    }\n",
              "</style>\n",
              "<table border=\"1\" class=\"dataframe\">\n",
              "  <thead>\n",
              "    <tr style=\"text-align: right;\">\n",
              "      <th></th>\n",
              "      <th>P</th>\n",
              "      <th>L</th>\n",
              "      <th>D</th>\n",
              "    </tr>\n",
              "  </thead>\n",
              "  <tbody>\n",
              "    <tr>\n",
              "      <th>count</th>\n",
              "      <td>15800.000000</td>\n",
              "      <td>15800.000000</td>\n",
              "      <td>15800.000000</td>\n",
              "    </tr>\n",
              "    <tr>\n",
              "      <th>mean</th>\n",
              "      <td>533.977006</td>\n",
              "      <td>535.721676</td>\n",
              "      <td>-1.748132</td>\n",
              "    </tr>\n",
              "    <tr>\n",
              "      <th>std</th>\n",
              "      <td>1531.105891</td>\n",
              "      <td>1592.140277</td>\n",
              "      <td>127.635970</td>\n",
              "    </tr>\n",
              "    <tr>\n",
              "      <th>min</th>\n",
              "      <td>-18028.350000</td>\n",
              "      <td>-17688.290000</td>\n",
              "      <td>-15410.000000</td>\n",
              "    </tr>\n",
              "    <tr>\n",
              "      <th>25%</th>\n",
              "      <td>76.500000</td>\n",
              "      <td>76.500000</td>\n",
              "      <td>-0.200000</td>\n",
              "    </tr>\n",
              "    <tr>\n",
              "      <th>50%</th>\n",
              "      <td>196.920000</td>\n",
              "      <td>196.890000</td>\n",
              "      <td>0.000000</td>\n",
              "    </tr>\n",
              "    <tr>\n",
              "      <th>75%</th>\n",
              "      <td>498.960000</td>\n",
              "      <td>498.960000</td>\n",
              "      <td>0.160000</td>\n",
              "    </tr>\n",
              "    <tr>\n",
              "      <th>max</th>\n",
              "      <td>68157.590000</td>\n",
              "      <td>83568.000000</td>\n",
              "      <td>1.000000</td>\n",
              "    </tr>\n",
              "  </tbody>\n",
              "</table>\n",
              "</div>"
            ],
            "text/plain": [
              "                  P             L             D\n",
              "count  15800.000000  15800.000000  15800.000000\n",
              "mean     533.977006    535.721676     -1.748132\n",
              "std     1531.105891   1592.140277    127.635970\n",
              "min   -18028.350000 -17688.290000 -15410.000000\n",
              "25%       76.500000     76.500000     -0.200000\n",
              "50%      196.920000    196.890000      0.000000\n",
              "75%      498.960000    498.960000      0.160000\n",
              "max    68157.590000  83568.000000      1.000000"
            ]
          },
          "metadata": {},
          "execution_count": 45
        }
      ]
    },
    {
      "cell_type": "markdown",
      "metadata": {
        "id": "e4hkTEf_Buwa"
      },
      "source": [
        "## Random Forest"
      ]
    },
    {
      "cell_type": "code",
      "metadata": {
        "colab": {
          "base_uri": "https://localhost:8080/"
        },
        "id": "ebPMjnUuBxGZ",
        "outputId": "97c54a5f-bc20-416d-ef3e-2ba886827cd5"
      },
      "source": [
        "start = time.time()\n",
        "\n",
        "forest = RandomForestRegressor(n_estimators=10, max_depth=10, random_state=42)\n",
        "forest.fit(data_prepared, label_train)\n",
        "\n",
        "t=(time.time() - start)/60\n",
        "print( 'Time in minutes:%5.2f'%t)"
      ],
      "execution_count": null,
      "outputs": [
        {
          "output_type": "stream",
          "text": [
            "Time in minutes: 3.45\n"
          ],
          "name": "stdout"
        }
      ]
    },
    {
      "cell_type": "code",
      "metadata": {
        "colab": {
          "base_uri": "https://localhost:8080/"
        },
        "id": "Vvl0UHCIHJ4i",
        "outputId": "c3ef6c44-0ead-441c-b7d3-6e5277d6ac1b"
      },
      "source": [
        "predictions = forest.predict(data_prepared)\n",
        "\n",
        "forest_mse = mean_squared_error(label_train, predictions)\n",
        "forest_rmse = np.sqrt(forest_mse)\n",
        "print('RMSE %5.4f'%forest_rmse)\n",
        "\n",
        "score = forest.score(data_prepared,label_train)\n",
        "print(' r^2 score %8.3f \\n' % score)"
      ],
      "execution_count": null,
      "outputs": [
        {
          "output_type": "stream",
          "text": [
            "RMSE 769.0342\n",
            " r^2 score    0.937 \n",
            "\n"
          ],
          "name": "stdout"
        }
      ]
    },
    {
      "cell_type": "code",
      "metadata": {
        "colab": {
          "base_uri": "https://localhost:8080/"
        },
        "id": "DezkrYTIJV3F",
        "outputId": "e62a8710-7c09-40d0-a714-1128b56bd546"
      },
      "source": [
        "final_predictions = forest.predict(test_prepared)\n",
        "\n",
        "final_mse = mean_squared_error(label_test, final_predictions)\n",
        "final_rmse = np.sqrt(final_mse)\n",
        "print('RMSE %5.4f'%final_rmse)"
      ],
      "execution_count": null,
      "outputs": [
        {
          "output_type": "stream",
          "text": [
            "RMSE 151.8953\n"
          ],
          "name": "stdout"
        }
      ]
    },
    {
      "cell_type": "code",
      "metadata": {
        "colab": {
          "base_uri": "https://localhost:8080/"
        },
        "id": "4Ya8wa4FJYdj",
        "outputId": "3855d066-6584-4fe9-c020-1592fd1bd652"
      },
      "source": [
        "score = forest.score(test_prepared,label_test)\n",
        "print(' r^2 score %8.3f \\n' % score)"
      ],
      "execution_count": null,
      "outputs": [
        {
          "output_type": "stream",
          "text": [
            " r^2 score    0.994 \n",
            "\n"
          ],
          "name": "stdout"
        }
      ]
    },
    {
      "cell_type": "markdown",
      "metadata": {
        "id": "aYoc1bfiA-l_"
      },
      "source": [
        "Business Insights"
      ]
    },
    {
      "cell_type": "code",
      "metadata": {
        "colab": {
          "base_uri": "https://localhost:8080/",
          "height": 424
        },
        "id": "iCULOZQaBANu",
        "outputId": "d6cc5b6d-6806-4c67-e125-5174f9d4350c"
      },
      "source": [
        "df = pd.DataFrame( columns=['prediction','label'] )\n",
        "df['prediction']=pd.Series(final_predictions)\n",
        "df['label']=label_test.reset_index()['Total value sale']\n",
        "df"
      ],
      "execution_count": null,
      "outputs": [
        {
          "output_type": "execute_result",
          "data": {
            "text/html": [
              "<div>\n",
              "<style scoped>\n",
              "    .dataframe tbody tr th:only-of-type {\n",
              "        vertical-align: middle;\n",
              "    }\n",
              "\n",
              "    .dataframe tbody tr th {\n",
              "        vertical-align: top;\n",
              "    }\n",
              "\n",
              "    .dataframe thead th {\n",
              "        text-align: right;\n",
              "    }\n",
              "</style>\n",
              "<table border=\"1\" class=\"dataframe\">\n",
              "  <thead>\n",
              "    <tr style=\"text-align: right;\">\n",
              "      <th></th>\n",
              "      <th>prediction</th>\n",
              "      <th>label</th>\n",
              "    </tr>\n",
              "  </thead>\n",
              "  <tbody>\n",
              "    <tr>\n",
              "      <th>0</th>\n",
              "      <td>206.906140</td>\n",
              "      <td>225.18</td>\n",
              "    </tr>\n",
              "    <tr>\n",
              "      <th>1</th>\n",
              "      <td>204.670366</td>\n",
              "      <td>210.00</td>\n",
              "    </tr>\n",
              "    <tr>\n",
              "      <th>2</th>\n",
              "      <td>360.315953</td>\n",
              "      <td>360.00</td>\n",
              "    </tr>\n",
              "    <tr>\n",
              "      <th>3</th>\n",
              "      <td>183.747382</td>\n",
              "      <td>175.00</td>\n",
              "    </tr>\n",
              "    <tr>\n",
              "      <th>4</th>\n",
              "      <td>292.080095</td>\n",
              "      <td>292.00</td>\n",
              "    </tr>\n",
              "    <tr>\n",
              "      <th>...</th>\n",
              "      <td>...</td>\n",
              "      <td>...</td>\n",
              "    </tr>\n",
              "    <tr>\n",
              "      <th>16178</th>\n",
              "      <td>1.829805</td>\n",
              "      <td>0.01</td>\n",
              "    </tr>\n",
              "    <tr>\n",
              "      <th>16179</th>\n",
              "      <td>73.331037</td>\n",
              "      <td>80.00</td>\n",
              "    </tr>\n",
              "    <tr>\n",
              "      <th>16180</th>\n",
              "      <td>57.897120</td>\n",
              "      <td>53.75</td>\n",
              "    </tr>\n",
              "    <tr>\n",
              "      <th>16181</th>\n",
              "      <td>29.478857</td>\n",
              "      <td>34.30</td>\n",
              "    </tr>\n",
              "    <tr>\n",
              "      <th>16182</th>\n",
              "      <td>57.897120</td>\n",
              "      <td>50.75</td>\n",
              "    </tr>\n",
              "  </tbody>\n",
              "</table>\n",
              "<p>16183 rows × 2 columns</p>\n",
              "</div>"
            ],
            "text/plain": [
              "       prediction   label\n",
              "0      206.906140  225.18\n",
              "1      204.670366  210.00\n",
              "2      360.315953  360.00\n",
              "3      183.747382  175.00\n",
              "4      292.080095  292.00\n",
              "...           ...     ...\n",
              "16178    1.829805    0.01\n",
              "16179   73.331037   80.00\n",
              "16180   57.897120   53.75\n",
              "16181   29.478857   34.30\n",
              "16182   57.897120   50.75\n",
              "\n",
              "[16183 rows x 2 columns]"
            ]
          },
          "metadata": {},
          "execution_count": 50
        }
      ]
    },
    {
      "cell_type": "code",
      "metadata": {
        "colab": {
          "base_uri": "https://localhost:8080/"
        },
        "id": "3VUtlJuKBANv",
        "outputId": "30f1d7b6-6812-479e-9009-b4e79b96d59f"
      },
      "source": [
        "Ds=pd.DataFrame(columns=['P','L','D'] )\n",
        "i=0\n",
        "for index,row in df.iterrows():\n",
        "    diff= round(row['prediction'],0)-row['label']\n",
        "    if not diff>1:\n",
        "        i+=1\n",
        "        Ds=Ds.append({'P': row['prediction'],'L': row['label'],'D':diff },ignore_index=True )\n",
        "print(i)"
      ],
      "execution_count": null,
      "outputs": [
        {
          "output_type": "stream",
          "text": [
            "9748\n"
          ],
          "name": "stdout"
        }
      ]
    },
    {
      "cell_type": "code",
      "metadata": {
        "colab": {
          "base_uri": "https://localhost:8080/",
          "height": 300
        },
        "id": "TO76AwgeBANv",
        "outputId": "f3a8626c-643f-473c-f4b9-ffe0c1a852e7"
      },
      "source": [
        "Ds.describe()"
      ],
      "execution_count": null,
      "outputs": [
        {
          "output_type": "execute_result",
          "data": {
            "text/html": [
              "<div>\n",
              "<style scoped>\n",
              "    .dataframe tbody tr th:only-of-type {\n",
              "        vertical-align: middle;\n",
              "    }\n",
              "\n",
              "    .dataframe tbody tr th {\n",
              "        vertical-align: top;\n",
              "    }\n",
              "\n",
              "    .dataframe thead th {\n",
              "        text-align: right;\n",
              "    }\n",
              "</style>\n",
              "<table border=\"1\" class=\"dataframe\">\n",
              "  <thead>\n",
              "    <tr style=\"text-align: right;\">\n",
              "      <th></th>\n",
              "      <th>P</th>\n",
              "      <th>L</th>\n",
              "      <th>D</th>\n",
              "    </tr>\n",
              "  </thead>\n",
              "  <tbody>\n",
              "    <tr>\n",
              "      <th>count</th>\n",
              "      <td>9748.000000</td>\n",
              "      <td>9748.000000</td>\n",
              "      <td>9748.000000</td>\n",
              "    </tr>\n",
              "    <tr>\n",
              "      <th>mean</th>\n",
              "      <td>677.585915</td>\n",
              "      <td>684.519141</td>\n",
              "      <td>-6.937073</td>\n",
              "    </tr>\n",
              "    <tr>\n",
              "      <th>std</th>\n",
              "      <td>1913.667508</td>\n",
              "      <td>1996.581372</td>\n",
              "      <td>195.091370</td>\n",
              "    </tr>\n",
              "    <tr>\n",
              "      <th>min</th>\n",
              "      <td>-19975.440000</td>\n",
              "      <td>-17688.290000</td>\n",
              "      <td>-18837.000000</td>\n",
              "    </tr>\n",
              "    <tr>\n",
              "      <th>25%</th>\n",
              "      <td>87.235918</td>\n",
              "      <td>93.780000</td>\n",
              "      <td>-6.182500</td>\n",
              "    </tr>\n",
              "    <tr>\n",
              "      <th>50%</th>\n",
              "      <td>243.481438</td>\n",
              "      <td>243.680000</td>\n",
              "      <td>-2.600000</td>\n",
              "    </tr>\n",
              "    <tr>\n",
              "      <th>75%</th>\n",
              "      <td>610.155280</td>\n",
              "      <td>617.862500</td>\n",
              "      <td>-0.300000</td>\n",
              "    </tr>\n",
              "    <tr>\n",
              "      <th>max</th>\n",
              "      <td>64730.876000</td>\n",
              "      <td>83568.000000</td>\n",
              "      <td>1.000000</td>\n",
              "    </tr>\n",
              "  </tbody>\n",
              "</table>\n",
              "</div>"
            ],
            "text/plain": [
              "                  P             L             D\n",
              "count   9748.000000   9748.000000   9748.000000\n",
              "mean     677.585915    684.519141     -6.937073\n",
              "std     1913.667508   1996.581372    195.091370\n",
              "min   -19975.440000 -17688.290000 -18837.000000\n",
              "25%       87.235918     93.780000     -6.182500\n",
              "50%      243.481438    243.680000     -2.600000\n",
              "75%      610.155280    617.862500     -0.300000\n",
              "max    64730.876000  83568.000000      1.000000"
            ]
          },
          "metadata": {},
          "execution_count": 52
        }
      ]
    }
  ]
}